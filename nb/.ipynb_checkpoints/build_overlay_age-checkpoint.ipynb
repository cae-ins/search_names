{
 "cells": [
  {
   "cell_type": "code",
   "execution_count": 1,
   "id": "c1e2fef8",
   "metadata": {},
   "outputs": [],
   "source": [
    "import polars as pl\n",
    "from pathlib import Path\n",
    "import datetime"
   ]
  },
  {
   "cell_type": "code",
   "execution_count": 2,
   "id": "6d416147",
   "metadata": {},
   "outputs": [],
   "source": [
    "files_dir = Path(\"../files\")  # Dossier au même niveau que le répertoire actuel"
   ]
  },
  {
   "cell_type": "code",
   "execution_count": 3,
   "id": "e2e09dee",
   "metadata": {},
   "outputs": [
    {
     "name": "stderr",
     "output_type": "stream",
     "text": [
      "C:\\Users\\USER\\AppData\\Local\\Temp\\ipykernel_18788\\1450877043.py:2: DeprecationWarning: The argument `dtypes` for `read_csv` is deprecated. It has been renamed to `schema_overrides`.\n",
      "  df = pl.read_csv(\n"
     ]
    }
   ],
   "source": [
    "# Charger le CSV avec les bonnes colonnes\n",
    "df = pl.read_csv(\n",
    "    files_dir/ \"nom_prenoms_lower_trim.csv\",\n",
    "    separator=\",\",  # Ajuster selon le séparateur réel\n",
    "    new_columns=[\"nom\", \"prenoms\", \"sexe\", \"age\"],\n",
    "    dtypes={\n",
    "        \"nom\": pl.Utf8,\n",
    "        \"prenoms\": pl.Utf8,\n",
    "        \"sexe\": pl.Categorical,  # Optimisation mémoire\n",
    "        \"age\": pl.UInt8\n",
    "    }\n",
    ")"
   ]
  },
  {
   "cell_type": "code",
   "execution_count": 4,
   "id": "0f3453c2",
   "metadata": {},
   "outputs": [
    {
     "data": {
      "text/html": [
       "<div><style>\n",
       ".dataframe > thead > tr,\n",
       ".dataframe > tbody > tr {\n",
       "  text-align: right;\n",
       "  white-space: pre-wrap;\n",
       "}\n",
       "</style>\n",
       "<small>shape: (27_168_543, 4)</small><table border=\"1\" class=\"dataframe\"><thead><tr><th>nom</th><th>prenoms</th><th>sexe</th><th>age</th></tr><tr><td>str</td><td>str</td><td>cat</td><td>u8</td></tr></thead><tbody><tr><td>&quot;lago&quot;</td><td>&quot;serge&quot;</td><td>&quot;Masculin&quot;</td><td>43</td></tr><tr><td>&quot;lago&quot;</td><td>&quot;renaud&quot;</td><td>&quot;Masculin&quot;</td><td>40</td></tr><tr><td>&quot;lago&quot;</td><td>&quot;therese&quot;</td><td>&quot;Féminin&quot;</td><td>68</td></tr><tr><td>&quot;bode&quot;</td><td>&quot;charleine&quot;</td><td>&quot;Féminin&quot;</td><td>25</td></tr><tr><td>&quot;dina&quot;</td><td>&quot;dina&quot;</td><td>&quot;Féminin&quot;</td><td>27</td></tr><tr><td>&hellip;</td><td>&hellip;</td><td>&hellip;</td><td>&hellip;</td></tr><tr><td>&quot;diallo&quot;</td><td>&quot;maiga&quot;</td><td>&quot;Masculin&quot;</td><td>46</td></tr><tr><td>&quot;diallo&quot;</td><td>&quot;amina&quot;</td><td>&quot;Féminin&quot;</td><td>28</td></tr><tr><td>&quot;diallo&quot;</td><td>&quot;ramata&quot;</td><td>&quot;Féminin&quot;</td><td>21</td></tr><tr><td>&quot;ouedrago&quot;</td><td>&quot;salif&quot;</td><td>&quot;Masculin&quot;</td><td>24</td></tr><tr><td>&quot;maiga&quot;</td><td>&quot;mariam&quot;</td><td>&quot;Féminin&quot;</td><td>22</td></tr></tbody></table></div>"
      ],
      "text/plain": [
       "shape: (27_168_543, 4)\n",
       "┌──────────┬───────────┬──────────┬─────┐\n",
       "│ nom      ┆ prenoms   ┆ sexe     ┆ age │\n",
       "│ ---      ┆ ---       ┆ ---      ┆ --- │\n",
       "│ str      ┆ str       ┆ cat      ┆ u8  │\n",
       "╞══════════╪═══════════╪══════════╪═════╡\n",
       "│ lago     ┆ serge     ┆ Masculin ┆ 43  │\n",
       "│ lago     ┆ renaud    ┆ Masculin ┆ 40  │\n",
       "│ lago     ┆ therese   ┆ Féminin  ┆ 68  │\n",
       "│ bode     ┆ charleine ┆ Féminin  ┆ 25  │\n",
       "│ dina     ┆ dina      ┆ Féminin  ┆ 27  │\n",
       "│ …        ┆ …         ┆ …        ┆ …   │\n",
       "│ diallo   ┆ maiga     ┆ Masculin ┆ 46  │\n",
       "│ diallo   ┆ amina     ┆ Féminin  ┆ 28  │\n",
       "│ diallo   ┆ ramata    ┆ Féminin  ┆ 21  │\n",
       "│ ouedrago ┆ salif     ┆ Masculin ┆ 24  │\n",
       "│ maiga    ┆ mariam    ┆ Féminin  ┆ 22  │\n",
       "└──────────┴───────────┴──────────┴─────┘"
      ]
     },
     "execution_count": 4,
     "metadata": {},
     "output_type": "execute_result"
    }
   ],
   "source": [
    "df"
   ]
  },
  {
   "cell_type": "code",
   "execution_count": null,
   "id": "ccc649a0",
   "metadata": {},
   "outputs": [],
   "source": []
  }
 ],
 "metadata": {
  "kernelspec": {
   "display_name": "search_n",
   "language": "python",
   "name": "python3"
  },
  "language_info": {
   "codemirror_mode": {
    "name": "ipython",
    "version": 3
   },
   "file_extension": ".py",
   "mimetype": "text/x-python",
   "name": "python",
   "nbconvert_exporter": "python",
   "pygments_lexer": "ipython3",
   "version": "3.13.2"
  }
 },
 "nbformat": 4,
 "nbformat_minor": 5
}
