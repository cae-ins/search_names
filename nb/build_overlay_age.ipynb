{
 "cells": [
  {
   "cell_type": "code",
   "execution_count": 60,
   "id": "c1e2fef8",
   "metadata": {},
   "outputs": [],
   "source": [
    "import polars as pl\n",
    "from pathlib import Path\n",
    "import datetime"
   ]
  },
  {
   "cell_type": "code",
   "execution_count": 61,
   "id": "6d416147",
   "metadata": {},
   "outputs": [],
   "source": [
    "files_dir = Path(\"../files\")  # Dossier au même niveau que le répertoire actuel"
   ]
  },
  {
   "cell_type": "code",
   "execution_count": 62,
   "id": "e2e09dee",
   "metadata": {},
   "outputs": [
    {
     "name": "stderr",
     "output_type": "stream",
     "text": [
      "C:\\Users\\USER\\AppData\\Local\\Temp\\ipykernel_18788\\1450877043.py:2: DeprecationWarning: The argument `dtypes` for `read_csv` is deprecated. It has been renamed to `schema_overrides`.\n",
      "  df = pl.read_csv(\n"
     ]
    }
   ],
   "source": [
    "# Charger le CSV avec les bonnes colonnes\n",
    "df = pl.read_csv(\n",
    "    files_dir/ \"nom_prenoms_lower_trim.csv\",\n",
    "    separator=\",\",  # Ajuster selon le séparateur réel\n",
    "    new_columns=[\"nom\", \"prenoms\", \"sexe\", \"age\"],\n",
    "    dtypes={\n",
    "        \"nom\": pl.Utf8,\n",
    "        \"prenoms\": pl.Utf8,\n",
    "        \"sexe\": pl.Categorical,  # Optimisation mémoire\n",
    "        \"age\": pl.UInt8\n",
    "    }\n",
    ")"
   ]
  },
  {
   "cell_type": "code",
   "execution_count": 63,
   "id": "0f3453c2",
   "metadata": {},
   "outputs": [
    {
     "data": {
      "text/html": [
       "<div><style>\n",
       ".dataframe > thead > tr,\n",
       ".dataframe > tbody > tr {\n",
       "  text-align: right;\n",
       "  white-space: pre-wrap;\n",
       "}\n",
       "</style>\n",
       "<small>shape: (27_168_543, 4)</small><table border=\"1\" class=\"dataframe\"><thead><tr><th>nom</th><th>prenoms</th><th>sexe</th><th>age</th></tr><tr><td>str</td><td>str</td><td>cat</td><td>u8</td></tr></thead><tbody><tr><td>&quot;lago&quot;</td><td>&quot;serge&quot;</td><td>&quot;Masculin&quot;</td><td>43</td></tr><tr><td>&quot;lago&quot;</td><td>&quot;renaud&quot;</td><td>&quot;Masculin&quot;</td><td>40</td></tr><tr><td>&quot;lago&quot;</td><td>&quot;therese&quot;</td><td>&quot;Féminin&quot;</td><td>68</td></tr><tr><td>&quot;bode&quot;</td><td>&quot;charleine&quot;</td><td>&quot;Féminin&quot;</td><td>25</td></tr><tr><td>&quot;dina&quot;</td><td>&quot;dina&quot;</td><td>&quot;Féminin&quot;</td><td>27</td></tr><tr><td>&hellip;</td><td>&hellip;</td><td>&hellip;</td><td>&hellip;</td></tr><tr><td>&quot;diallo&quot;</td><td>&quot;maiga&quot;</td><td>&quot;Masculin&quot;</td><td>46</td></tr><tr><td>&quot;diallo&quot;</td><td>&quot;amina&quot;</td><td>&quot;Féminin&quot;</td><td>28</td></tr><tr><td>&quot;diallo&quot;</td><td>&quot;ramata&quot;</td><td>&quot;Féminin&quot;</td><td>21</td></tr><tr><td>&quot;ouedrago&quot;</td><td>&quot;salif&quot;</td><td>&quot;Masculin&quot;</td><td>24</td></tr><tr><td>&quot;maiga&quot;</td><td>&quot;mariam&quot;</td><td>&quot;Féminin&quot;</td><td>22</td></tr></tbody></table></div>"
      ],
      "text/plain": [
       "shape: (27_168_543, 4)\n",
       "┌──────────┬───────────┬──────────┬─────┐\n",
       "│ nom      ┆ prenoms   ┆ sexe     ┆ age │\n",
       "│ ---      ┆ ---       ┆ ---      ┆ --- │\n",
       "│ str      ┆ str       ┆ cat      ┆ u8  │\n",
       "╞══════════╪═══════════╪══════════╪═════╡\n",
       "│ lago     ┆ serge     ┆ Masculin ┆ 43  │\n",
       "│ lago     ┆ renaud    ┆ Masculin ┆ 40  │\n",
       "│ lago     ┆ therese   ┆ Féminin  ┆ 68  │\n",
       "│ bode     ┆ charleine ┆ Féminin  ┆ 25  │\n",
       "│ dina     ┆ dina      ┆ Féminin  ┆ 27  │\n",
       "│ …        ┆ …         ┆ …        ┆ …   │\n",
       "│ diallo   ┆ maiga     ┆ Masculin ┆ 46  │\n",
       "│ diallo   ┆ amina     ┆ Féminin  ┆ 28  │\n",
       "│ diallo   ┆ ramata    ┆ Féminin  ┆ 21  │\n",
       "│ ouedrago ┆ salif     ┆ Masculin ┆ 24  │\n",
       "│ maiga    ┆ mariam    ┆ Féminin  ┆ 22  │\n",
       "└──────────┴───────────┴──────────┴─────┘"
      ]
     },
     "execution_count": 63,
     "metadata": {},
     "output_type": "execute_result"
    }
   ],
   "source": [
    "df"
   ]
  },
  {
   "cell_type": "code",
   "execution_count": 64,
   "id": "ccc649a0",
   "metadata": {},
   "outputs": [],
   "source": [
    "import polars as pl\n",
    "from pathlib import Path\n",
    "\n",
    "files_dir = Path(\"../files\")"
   ]
  },
  {
   "cell_type": "code",
   "execution_count": 65,
   "id": "163ea07c",
   "metadata": {},
   "outputs": [
    {
     "name": "stderr",
     "output_type": "stream",
     "text": [
      "C:\\Users\\USER\\AppData\\Local\\Temp\\ipykernel_18788\\3926850597.py:1: DeprecationWarning: The argument `dtypes` for `read_csv` is deprecated. It has been renamed to `schema_overrides`.\n",
      "  df = pl.read_csv(\n"
     ]
    }
   ],
   "source": [
    "df = pl.read_csv(\n",
    "    files_dir / \"nom_prenoms_lower_trim.csv\",\n",
    "    new_columns=[\"nom\", \"prenoms\", \"sexe\", \"age\"],\n",
    "    dtypes={\n",
    "        \"nom\": pl.Utf8,\n",
    "        \"prenoms\": pl.Utf8,\n",
    "        \"sexe\": pl.Categorical,\n",
    "        \"age\": pl.UInt8\n",
    "    }\n",
    ")\n"
   ]
  },
  {
   "cell_type": "code",
   "execution_count": 66,
   "id": "c969e276",
   "metadata": {},
   "outputs": [],
   "source": [
    "current_year = 2021\n",
    "df = df.with_columns(annee_naissance=current_year - pl.col(\"age\"))\n"
   ]
  },
  {
   "cell_type": "code",
   "execution_count": 67,
   "id": "bcb7e2d9",
   "metadata": {},
   "outputs": [],
   "source": [
    "df_exploded = df.with_columns(\n",
    "    pl.col(\"prenoms\").str.split(\" \").alias(\"prenoms_split\")\n",
    ").explode(\"prenoms_split\").rename({\"prenoms_split\": \"prenom_explode\"})\n"
   ]
  },
  {
   "cell_type": "code",
   "execution_count": 68,
   "id": "c5653635",
   "metadata": {},
   "outputs": [],
   "source": [
    "names_years = pl.concat([\n",
    "    df_exploded.select(\"prenom_explode\", \"annee_naissance\").rename({\"prenom_explode\": \"name\"}),\n",
    "    df.select(\"nom\", \"annee_naissance\").rename({\"nom\": \"name\"})\n",
    "])\n",
    "\n",
    "# Calcul de la plage temporelle\n",
    "min_year = names_years[\"annee_naissance\"].min()\n",
    "max_year = current_year\n"
   ]
  },
  {
   "cell_type": "code",
   "execution_count": 69,
   "id": "9b3a511e",
   "metadata": {},
   "outputs": [
    {
     "data": {
      "text/html": [
       "<div><style>\n",
       ".dataframe > thead > tr,\n",
       ".dataframe > tbody > tr {\n",
       "  text-align: right;\n",
       "  white-space: pre-wrap;\n",
       "}\n",
       "</style>\n",
       "<small>shape: (37_488_637, 6)</small><table border=\"1\" class=\"dataframe\"><thead><tr><th>nom</th><th>prenoms</th><th>sexe</th><th>age</th><th>annee_naissance</th><th>prenom_explode</th></tr><tr><td>str</td><td>str</td><td>cat</td><td>u8</td><td>u16</td><td>str</td></tr></thead><tbody><tr><td>&quot;lago&quot;</td><td>&quot;serge&quot;</td><td>&quot;Masculin&quot;</td><td>43</td><td>1978</td><td>&quot;serge&quot;</td></tr><tr><td>&quot;lago&quot;</td><td>&quot;renaud&quot;</td><td>&quot;Masculin&quot;</td><td>40</td><td>1981</td><td>&quot;renaud&quot;</td></tr><tr><td>&quot;lago&quot;</td><td>&quot;therese&quot;</td><td>&quot;Féminin&quot;</td><td>68</td><td>1953</td><td>&quot;therese&quot;</td></tr><tr><td>&quot;bode&quot;</td><td>&quot;charleine&quot;</td><td>&quot;Féminin&quot;</td><td>25</td><td>1996</td><td>&quot;charleine&quot;</td></tr><tr><td>&quot;dina&quot;</td><td>&quot;dina&quot;</td><td>&quot;Féminin&quot;</td><td>27</td><td>1994</td><td>&quot;dina&quot;</td></tr><tr><td>&hellip;</td><td>&hellip;</td><td>&hellip;</td><td>&hellip;</td><td>&hellip;</td><td>&hellip;</td></tr><tr><td>&quot;diallo&quot;</td><td>&quot;maiga&quot;</td><td>&quot;Masculin&quot;</td><td>46</td><td>1975</td><td>&quot;maiga&quot;</td></tr><tr><td>&quot;diallo&quot;</td><td>&quot;amina&quot;</td><td>&quot;Féminin&quot;</td><td>28</td><td>1993</td><td>&quot;amina&quot;</td></tr><tr><td>&quot;diallo&quot;</td><td>&quot;ramata&quot;</td><td>&quot;Féminin&quot;</td><td>21</td><td>2000</td><td>&quot;ramata&quot;</td></tr><tr><td>&quot;ouedrago&quot;</td><td>&quot;salif&quot;</td><td>&quot;Masculin&quot;</td><td>24</td><td>1997</td><td>&quot;salif&quot;</td></tr><tr><td>&quot;maiga&quot;</td><td>&quot;mariam&quot;</td><td>&quot;Féminin&quot;</td><td>22</td><td>1999</td><td>&quot;mariam&quot;</td></tr></tbody></table></div>"
      ],
      "text/plain": [
       "shape: (37_488_637, 6)\n",
       "┌──────────┬───────────┬──────────┬─────┬─────────────────┬────────────────┐\n",
       "│ nom      ┆ prenoms   ┆ sexe     ┆ age ┆ annee_naissance ┆ prenom_explode │\n",
       "│ ---      ┆ ---       ┆ ---      ┆ --- ┆ ---             ┆ ---            │\n",
       "│ str      ┆ str       ┆ cat      ┆ u8  ┆ u16             ┆ str            │\n",
       "╞══════════╪═══════════╪══════════╪═════╪═════════════════╪════════════════╡\n",
       "│ lago     ┆ serge     ┆ Masculin ┆ 43  ┆ 1978            ┆ serge          │\n",
       "│ lago     ┆ renaud    ┆ Masculin ┆ 40  ┆ 1981            ┆ renaud         │\n",
       "│ lago     ┆ therese   ┆ Féminin  ┆ 68  ┆ 1953            ┆ therese        │\n",
       "│ bode     ┆ charleine ┆ Féminin  ┆ 25  ┆ 1996            ┆ charleine      │\n",
       "│ dina     ┆ dina      ┆ Féminin  ┆ 27  ┆ 1994            ┆ dina           │\n",
       "│ …        ┆ …         ┆ …        ┆ …   ┆ …               ┆ …              │\n",
       "│ diallo   ┆ maiga     ┆ Masculin ┆ 46  ┆ 1975            ┆ maiga          │\n",
       "│ diallo   ┆ amina     ┆ Féminin  ┆ 28  ┆ 1993            ┆ amina          │\n",
       "│ diallo   ┆ ramata    ┆ Féminin  ┆ 21  ┆ 2000            ┆ ramata         │\n",
       "│ ouedrago ┆ salif     ┆ Masculin ┆ 24  ┆ 1997            ┆ salif          │\n",
       "│ maiga    ┆ mariam    ┆ Féminin  ┆ 22  ┆ 1999            ┆ mariam         │\n",
       "└──────────┴───────────┴──────────┴─────┴─────────────────┴────────────────┘"
      ]
     },
     "execution_count": 69,
     "metadata": {},
     "output_type": "execute_result"
    }
   ],
   "source": [
    "df_exploded"
   ]
  },
  {
   "cell_type": "code",
   "execution_count": 70,
   "id": "6db43f4a",
   "metadata": {},
   "outputs": [
    {
     "name": "stderr",
     "output_type": "stream",
     "text": [
      "C:\\Users\\USER\\AppData\\Local\\Temp\\ipykernel_18788\\42145864.py:9: DeprecationWarning: `pl.count()` is deprecated. Please use `pl.len()` instead.\n",
      "  .agg(pl.count().alias(\"count\"))\n",
      "C:\\Users\\USER\\AppData\\Local\\Temp\\ipykernel_18788\\42145864.py:10: DeprecationWarning: The argument `columns` for `DataFrame.pivot` is deprecated. It has been renamed to `on`.\n",
      "  .pivot(\n"
     ]
    }
   ],
   "source": [
    "# %% [markdown]\n",
    "# ## 6. Statistiques annuelles (version compatible) - VERSION 1\n",
    "\n",
    "# %%\n",
    "# Création du pivot temporel\n",
    "yearly_stats = (\n",
    "    names_years\n",
    "    .group_by(\"name\", \"annee_naissance\")\n",
    "    .agg(pl.count().alias(\"count\"))\n",
    "    .pivot(\n",
    "        values=\"count\",\n",
    "        index=\"name\",\n",
    "        columns=\"annee_naissance\",\n",
    "        aggregate_function=\"sum\"\n",
    "    )\n",
    "    .fill_null(0)\n",
    ")\n",
    "\n",
    "# Renommage manuel des colonnes\n",
    "yearly_stats = yearly_stats.rename({\n",
    "    str(col): f\"annee_{col}\" \n",
    "    for col in yearly_stats.columns \n",
    "    if col != \"name\"\n",
    "})\n",
    "\n",
    "# Gestion des années manquantes\n",
    "min_year = names_years[\"annee_naissance\"].min()\n",
    "max_year = current_year\n",
    "all_years = [f\"annee_{y}\" for y in range(min_year, max_year + 1)]\n",
    "\n",
    "# Ajout des colonnes manquantes\n",
    "for y_col in all_years:\n",
    "    if y_col not in yearly_stats.columns:\n",
    "        yearly_stats = yearly_stats.with_columns(pl.lit(0).alias(y_col))\n",
    "\n",
    "# Tri des colonnes\n",
    "yearly_stats = yearly_stats.select([\"name\"] + sorted(\n",
    "    [col for col in yearly_stats.columns if col != \"name\"],\n",
    "    key=lambda x: int(x.split(\"_\")[1])\n",
    "))"
   ]
  },
  {
   "cell_type": "code",
   "execution_count": 71,
   "id": "30c7761c",
   "metadata": {},
   "outputs": [
    {
     "data": {
      "text/html": [
       "<div><style>\n",
       ".dataframe > thead > tr,\n",
       ".dataframe > tbody > tr {\n",
       "  text-align: right;\n",
       "  white-space: pre-wrap;\n",
       "}\n",
       "</style>\n",
       "<small>shape: (1_868_968, 137)</small><table border=\"1\" class=\"dataframe\"><thead><tr><th>name</th><th>annee_1886</th><th>annee_1887</th><th>annee_1888</th><th>annee_1889</th><th>annee_1890</th><th>annee_1891</th><th>annee_1892</th><th>annee_1893</th><th>annee_1894</th><th>annee_1895</th><th>annee_1896</th><th>annee_1897</th><th>annee_1898</th><th>annee_1899</th><th>annee_1900</th><th>annee_1901</th><th>annee_1902</th><th>annee_1903</th><th>annee_1904</th><th>annee_1905</th><th>annee_1906</th><th>annee_1907</th><th>annee_1908</th><th>annee_1909</th><th>annee_1910</th><th>annee_1911</th><th>annee_1912</th><th>annee_1913</th><th>annee_1914</th><th>annee_1915</th><th>annee_1916</th><th>annee_1917</th><th>annee_1918</th><th>annee_1919</th><th>annee_1920</th><th>annee_1921</th><th>&hellip;</th><th>annee_1985</th><th>annee_1986</th><th>annee_1987</th><th>annee_1988</th><th>annee_1989</th><th>annee_1990</th><th>annee_1991</th><th>annee_1992</th><th>annee_1993</th><th>annee_1994</th><th>annee_1995</th><th>annee_1996</th><th>annee_1997</th><th>annee_1998</th><th>annee_1999</th><th>annee_2000</th><th>annee_2001</th><th>annee_2002</th><th>annee_2003</th><th>annee_2004</th><th>annee_2005</th><th>annee_2006</th><th>annee_2007</th><th>annee_2008</th><th>annee_2009</th><th>annee_2010</th><th>annee_2011</th><th>annee_2012</th><th>annee_2013</th><th>annee_2014</th><th>annee_2015</th><th>annee_2016</th><th>annee_2017</th><th>annee_2018</th><th>annee_2019</th><th>annee_2020</th><th>annee_2021</th></tr><tr><td>str</td><td>u32</td><td>u32</td><td>u32</td><td>u32</td><td>u32</td><td>u32</td><td>u32</td><td>u32</td><td>u32</td><td>u32</td><td>u32</td><td>u32</td><td>u32</td><td>u32</td><td>u32</td><td>u32</td><td>u32</td><td>u32</td><td>u32</td><td>u32</td><td>u32</td><td>u32</td><td>u32</td><td>u32</td><td>u32</td><td>u32</td><td>u32</td><td>u32</td><td>u32</td><td>u32</td><td>u32</td><td>u32</td><td>u32</td><td>u32</td><td>u32</td><td>u32</td><td>&hellip;</td><td>u32</td><td>u32</td><td>u32</td><td>u32</td><td>u32</td><td>u32</td><td>u32</td><td>u32</td><td>u32</td><td>u32</td><td>u32</td><td>u32</td><td>u32</td><td>u32</td><td>u32</td><td>u32</td><td>u32</td><td>u32</td><td>u32</td><td>u32</td><td>u32</td><td>u32</td><td>u32</td><td>u32</td><td>u32</td><td>u32</td><td>u32</td><td>u32</td><td>u32</td><td>u32</td><td>u32</td><td>u32</td><td>u32</td><td>u32</td><td>u32</td><td>u32</td><td>u32</td></tr></thead><tbody><tr><td>&quot;abdul-aziz&quot;</td><td>0</td><td>0</td><td>0</td><td>0</td><td>0</td><td>0</td><td>0</td><td>0</td><td>0</td><td>0</td><td>0</td><td>0</td><td>0</td><td>0</td><td>0</td><td>0</td><td>0</td><td>0</td><td>0</td><td>0</td><td>0</td><td>0</td><td>0</td><td>0</td><td>0</td><td>0</td><td>0</td><td>0</td><td>0</td><td>0</td><td>0</td><td>0</td><td>0</td><td>0</td><td>0</td><td>0</td><td>&hellip;</td><td>0</td><td>0</td><td>0</td><td>0</td><td>1</td><td>0</td><td>0</td><td>1</td><td>0</td><td>0</td><td>1</td><td>0</td><td>2</td><td>0</td><td>1</td><td>1</td><td>1</td><td>1</td><td>1</td><td>0</td><td>0</td><td>1</td><td>0</td><td>1</td><td>1</td><td>0</td><td>1</td><td>0</td><td>0</td><td>0</td><td>3</td><td>3</td><td>1</td><td>3</td><td>1</td><td>2</td><td>4</td></tr><tr><td>&quot;lantoum&quot;</td><td>0</td><td>0</td><td>0</td><td>0</td><td>0</td><td>0</td><td>0</td><td>0</td><td>0</td><td>0</td><td>0</td><td>0</td><td>0</td><td>0</td><td>0</td><td>0</td><td>0</td><td>0</td><td>0</td><td>0</td><td>0</td><td>0</td><td>0</td><td>0</td><td>0</td><td>0</td><td>0</td><td>0</td><td>0</td><td>0</td><td>0</td><td>0</td><td>0</td><td>0</td><td>0</td><td>0</td><td>&hellip;</td><td>0</td><td>0</td><td>0</td><td>0</td><td>0</td><td>0</td><td>0</td><td>0</td><td>0</td><td>0</td><td>0</td><td>0</td><td>0</td><td>0</td><td>0</td><td>0</td><td>0</td><td>0</td><td>1</td><td>0</td><td>0</td><td>0</td><td>0</td><td>0</td><td>0</td><td>0</td><td>0</td><td>0</td><td>0</td><td>0</td><td>1</td><td>1</td><td>0</td><td>0</td><td>0</td><td>0</td><td>0</td></tr><tr><td>&quot;grand&quot;</td><td>0</td><td>0</td><td>0</td><td>0</td><td>0</td><td>0</td><td>0</td><td>0</td><td>0</td><td>0</td><td>0</td><td>0</td><td>0</td><td>0</td><td>0</td><td>0</td><td>0</td><td>0</td><td>0</td><td>0</td><td>0</td><td>0</td><td>0</td><td>0</td><td>0</td><td>0</td><td>0</td><td>0</td><td>0</td><td>0</td><td>0</td><td>0</td><td>0</td><td>0</td><td>0</td><td>0</td><td>&hellip;</td><td>2</td><td>4</td><td>2</td><td>1</td><td>5</td><td>6</td><td>4</td><td>3</td><td>3</td><td>4</td><td>8</td><td>8</td><td>6</td><td>5</td><td>3</td><td>6</td><td>10</td><td>4</td><td>11</td><td>9</td><td>6</td><td>7</td><td>6</td><td>9</td><td>6</td><td>8</td><td>7</td><td>10</td><td>5</td><td>8</td><td>9</td><td>16</td><td>5</td><td>13</td><td>6</td><td>10</td><td>9</td></tr><tr><td>&quot;julienne&quot;</td><td>1</td><td>0</td><td>0</td><td>0</td><td>0</td><td>0</td><td>0</td><td>0</td><td>0</td><td>0</td><td>0</td><td>0</td><td>0</td><td>0</td><td>0</td><td>0</td><td>0</td><td>0</td><td>0</td><td>0</td><td>0</td><td>0</td><td>0</td><td>0</td><td>0</td><td>0</td><td>0</td><td>0</td><td>0</td><td>0</td><td>0</td><td>0</td><td>0</td><td>0</td><td>0</td><td>1</td><td>&hellip;</td><td>111</td><td>150</td><td>123</td><td>101</td><td>151</td><td>155</td><td>146</td><td>91</td><td>123</td><td>98</td><td>120</td><td>151</td><td>103</td><td>120</td><td>121</td><td>126</td><td>127</td><td>125</td><td>120</td><td>102</td><td>99</td><td>110</td><td>105</td><td>89</td><td>110</td><td>106</td><td>103</td><td>99</td><td>119</td><td>89</td><td>93</td><td>121</td><td>96</td><td>111</td><td>93</td><td>63</td><td>76</td></tr><tr><td>&quot;ehnoc&quot;</td><td>0</td><td>0</td><td>0</td><td>0</td><td>0</td><td>0</td><td>0</td><td>0</td><td>0</td><td>0</td><td>0</td><td>0</td><td>0</td><td>0</td><td>0</td><td>0</td><td>0</td><td>0</td><td>0</td><td>0</td><td>0</td><td>0</td><td>0</td><td>0</td><td>0</td><td>0</td><td>0</td><td>0</td><td>0</td><td>0</td><td>0</td><td>0</td><td>0</td><td>0</td><td>0</td><td>0</td><td>&hellip;</td><td>0</td><td>0</td><td>0</td><td>0</td><td>0</td><td>0</td><td>0</td><td>0</td><td>0</td><td>0</td><td>0</td><td>0</td><td>0</td><td>0</td><td>0</td><td>1</td><td>0</td><td>0</td><td>1</td><td>0</td><td>0</td><td>0</td><td>0</td><td>0</td><td>0</td><td>1</td><td>0</td><td>0</td><td>0</td><td>0</td><td>1</td><td>0</td><td>1</td><td>0</td><td>0</td><td>0</td><td>0</td></tr><tr><td>&hellip;</td><td>&hellip;</td><td>&hellip;</td><td>&hellip;</td><td>&hellip;</td><td>&hellip;</td><td>&hellip;</td><td>&hellip;</td><td>&hellip;</td><td>&hellip;</td><td>&hellip;</td><td>&hellip;</td><td>&hellip;</td><td>&hellip;</td><td>&hellip;</td><td>&hellip;</td><td>&hellip;</td><td>&hellip;</td><td>&hellip;</td><td>&hellip;</td><td>&hellip;</td><td>&hellip;</td><td>&hellip;</td><td>&hellip;</td><td>&hellip;</td><td>&hellip;</td><td>&hellip;</td><td>&hellip;</td><td>&hellip;</td><td>&hellip;</td><td>&hellip;</td><td>&hellip;</td><td>&hellip;</td><td>&hellip;</td><td>&hellip;</td><td>&hellip;</td><td>&hellip;</td><td>&hellip;</td><td>&hellip;</td><td>&hellip;</td><td>&hellip;</td><td>&hellip;</td><td>&hellip;</td><td>&hellip;</td><td>&hellip;</td><td>&hellip;</td><td>&hellip;</td><td>&hellip;</td><td>&hellip;</td><td>&hellip;</td><td>&hellip;</td><td>&hellip;</td><td>&hellip;</td><td>&hellip;</td><td>&hellip;</td><td>&hellip;</td><td>&hellip;</td><td>&hellip;</td><td>&hellip;</td><td>&hellip;</td><td>&hellip;</td><td>&hellip;</td><td>&hellip;</td><td>&hellip;</td><td>&hellip;</td><td>&hellip;</td><td>&hellip;</td><td>&hellip;</td><td>&hellip;</td><td>&hellip;</td><td>&hellip;</td><td>&hellip;</td><td>&hellip;</td><td>&hellip;</td><td>&hellip;</td></tr><tr><td>&quot;weke douwa&quot;</td><td>0</td><td>0</td><td>0</td><td>0</td><td>0</td><td>0</td><td>0</td><td>0</td><td>0</td><td>0</td><td>0</td><td>0</td><td>0</td><td>0</td><td>0</td><td>0</td><td>0</td><td>0</td><td>0</td><td>0</td><td>0</td><td>0</td><td>0</td><td>0</td><td>0</td><td>0</td><td>0</td><td>0</td><td>0</td><td>0</td><td>0</td><td>0</td><td>0</td><td>0</td><td>0</td><td>0</td><td>&hellip;</td><td>0</td><td>0</td><td>0</td><td>0</td><td>0</td><td>0</td><td>0</td><td>0</td><td>0</td><td>0</td><td>0</td><td>0</td><td>0</td><td>0</td><td>0</td><td>0</td><td>0</td><td>0</td><td>0</td><td>0</td><td>0</td><td>0</td><td>0</td><td>0</td><td>0</td><td>0</td><td>0</td><td>0</td><td>0</td><td>0</td><td>0</td><td>0</td><td>0</td><td>0</td><td>0</td><td>0</td><td>0</td></tr><tr><td>&quot;djiobe&quot;</td><td>0</td><td>0</td><td>0</td><td>0</td><td>0</td><td>0</td><td>0</td><td>0</td><td>0</td><td>0</td><td>0</td><td>0</td><td>0</td><td>0</td><td>0</td><td>0</td><td>0</td><td>0</td><td>0</td><td>0</td><td>0</td><td>0</td><td>0</td><td>0</td><td>0</td><td>0</td><td>0</td><td>0</td><td>0</td><td>0</td><td>0</td><td>0</td><td>0</td><td>0</td><td>0</td><td>0</td><td>&hellip;</td><td>0</td><td>0</td><td>0</td><td>0</td><td>0</td><td>0</td><td>0</td><td>0</td><td>0</td><td>0</td><td>0</td><td>0</td><td>0</td><td>0</td><td>0</td><td>0</td><td>0</td><td>0</td><td>0</td><td>0</td><td>0</td><td>0</td><td>0</td><td>0</td><td>0</td><td>0</td><td>0</td><td>0</td><td>0</td><td>0</td><td>0</td><td>1</td><td>0</td><td>0</td><td>0</td><td>0</td><td>0</td></tr><tr><td>&quot;gregroird&quot;</td><td>0</td><td>0</td><td>0</td><td>0</td><td>0</td><td>0</td><td>0</td><td>0</td><td>0</td><td>0</td><td>0</td><td>0</td><td>0</td><td>0</td><td>0</td><td>0</td><td>0</td><td>0</td><td>0</td><td>0</td><td>0</td><td>0</td><td>0</td><td>0</td><td>0</td><td>0</td><td>0</td><td>0</td><td>0</td><td>0</td><td>0</td><td>0</td><td>0</td><td>0</td><td>0</td><td>0</td><td>&hellip;</td><td>0</td><td>0</td><td>0</td><td>0</td><td>0</td><td>0</td><td>0</td><td>0</td><td>0</td><td>0</td><td>0</td><td>0</td><td>0</td><td>0</td><td>0</td><td>0</td><td>0</td><td>0</td><td>0</td><td>0</td><td>0</td><td>0</td><td>0</td><td>0</td><td>0</td><td>0</td><td>0</td><td>0</td><td>0</td><td>0</td><td>0</td><td>0</td><td>0</td><td>0</td><td>0</td><td>0</td><td>0</td></tr><tr><td>&quot;dounanera&quot;</td><td>0</td><td>0</td><td>0</td><td>0</td><td>0</td><td>0</td><td>0</td><td>0</td><td>0</td><td>0</td><td>0</td><td>0</td><td>0</td><td>0</td><td>0</td><td>0</td><td>0</td><td>0</td><td>0</td><td>0</td><td>0</td><td>0</td><td>0</td><td>0</td><td>0</td><td>0</td><td>0</td><td>0</td><td>0</td><td>0</td><td>0</td><td>0</td><td>0</td><td>0</td><td>0</td><td>0</td><td>&hellip;</td><td>0</td><td>1</td><td>0</td><td>0</td><td>0</td><td>0</td><td>0</td><td>0</td><td>0</td><td>0</td><td>0</td><td>0</td><td>0</td><td>0</td><td>0</td><td>0</td><td>0</td><td>0</td><td>0</td><td>0</td><td>0</td><td>0</td><td>0</td><td>0</td><td>0</td><td>0</td><td>0</td><td>0</td><td>0</td><td>0</td><td>0</td><td>0</td><td>0</td><td>0</td><td>0</td><td>0</td><td>0</td></tr><tr><td>&quot;ghalienne&quot;</td><td>0</td><td>0</td><td>0</td><td>0</td><td>0</td><td>0</td><td>0</td><td>0</td><td>0</td><td>0</td><td>0</td><td>0</td><td>0</td><td>0</td><td>0</td><td>0</td><td>0</td><td>0</td><td>0</td><td>0</td><td>0</td><td>0</td><td>0</td><td>0</td><td>0</td><td>0</td><td>0</td><td>0</td><td>0</td><td>0</td><td>0</td><td>0</td><td>0</td><td>0</td><td>0</td><td>0</td><td>&hellip;</td><td>0</td><td>0</td><td>0</td><td>0</td><td>0</td><td>0</td><td>0</td><td>0</td><td>0</td><td>0</td><td>0</td><td>0</td><td>0</td><td>0</td><td>0</td><td>0</td><td>0</td><td>0</td><td>0</td><td>0</td><td>0</td><td>0</td><td>0</td><td>0</td><td>0</td><td>0</td><td>0</td><td>1</td><td>0</td><td>0</td><td>0</td><td>0</td><td>0</td><td>0</td><td>0</td><td>0</td><td>0</td></tr></tbody></table></div>"
      ],
      "text/plain": [
       "shape: (1_868_968, 137)\n",
       "┌───────────┬───────────┬───────────┬───────────┬───┬───────────┬───────────┬───────────┬──────────┐\n",
       "│ name      ┆ annee_188 ┆ annee_188 ┆ annee_188 ┆ … ┆ annee_201 ┆ annee_201 ┆ annee_202 ┆ annee_20 │\n",
       "│ ---       ┆ 6         ┆ 7         ┆ 8         ┆   ┆ 8         ┆ 9         ┆ 0         ┆ 21       │\n",
       "│ str       ┆ ---       ┆ ---       ┆ ---       ┆   ┆ ---       ┆ ---       ┆ ---       ┆ ---      │\n",
       "│           ┆ u32       ┆ u32       ┆ u32       ┆   ┆ u32       ┆ u32       ┆ u32       ┆ u32      │\n",
       "╞═══════════╪═══════════╪═══════════╪═══════════╪═══╪═══════════╪═══════════╪═══════════╪══════════╡\n",
       "│ abdul-azi ┆ 0         ┆ 0         ┆ 0         ┆ … ┆ 3         ┆ 1         ┆ 2         ┆ 4        │\n",
       "│ z         ┆           ┆           ┆           ┆   ┆           ┆           ┆           ┆          │\n",
       "│ lantoum   ┆ 0         ┆ 0         ┆ 0         ┆ … ┆ 0         ┆ 0         ┆ 0         ┆ 0        │\n",
       "│ grand     ┆ 0         ┆ 0         ┆ 0         ┆ … ┆ 13        ┆ 6         ┆ 10        ┆ 9        │\n",
       "│ julienne  ┆ 1         ┆ 0         ┆ 0         ┆ … ┆ 111       ┆ 93        ┆ 63        ┆ 76       │\n",
       "│ ehnoc     ┆ 0         ┆ 0         ┆ 0         ┆ … ┆ 0         ┆ 0         ┆ 0         ┆ 0        │\n",
       "│ …         ┆ …         ┆ …         ┆ …         ┆ … ┆ …         ┆ …         ┆ …         ┆ …        │\n",
       "│ weke      ┆ 0         ┆ 0         ┆ 0         ┆ … ┆ 0         ┆ 0         ┆ 0         ┆ 0        │\n",
       "│ douwa     ┆           ┆           ┆           ┆   ┆           ┆           ┆           ┆          │\n",
       "│ djiobe    ┆ 0         ┆ 0         ┆ 0         ┆ … ┆ 0         ┆ 0         ┆ 0         ┆ 0        │\n",
       "│ gregroird ┆ 0         ┆ 0         ┆ 0         ┆ … ┆ 0         ┆ 0         ┆ 0         ┆ 0        │\n",
       "│ dounanera ┆ 0         ┆ 0         ┆ 0         ┆ … ┆ 0         ┆ 0         ┆ 0         ┆ 0        │\n",
       "│ ghalienne ┆ 0         ┆ 0         ┆ 0         ┆ … ┆ 0         ┆ 0         ┆ 0         ┆ 0        │\n",
       "└───────────┴───────────┴───────────┴───────────┴───┴───────────┴───────────┴───────────┴──────────┘"
      ]
     },
     "execution_count": 71,
     "metadata": {},
     "output_type": "execute_result"
    }
   ],
   "source": [
    "yearly_stats"
   ]
  },
  {
   "cell_type": "code",
   "execution_count": 72,
   "id": "68d0f8e6",
   "metadata": {},
   "outputs": [
    {
     "name": "stderr",
     "output_type": "stream",
     "text": [
      "C:\\Users\\USER\\AppData\\Local\\Temp\\ipykernel_18788\\2881166339.py:15: DeprecationWarning: The argument `columns` for `DataFrame.pivot` is deprecated. It has been renamed to `on`.\n",
      "  .pivot(\n"
     ]
    }
   ],
   "source": [
    "stats = (\n",
    "    pl.concat([\n",
    "        df_exploded.select(\n",
    "            pl.col(\"prenom_explode\").alias(\"nom\"), \n",
    "            \"sexe\"\n",
    "        ).with_columns(type=pl.lit(\"prenoms\")),\n",
    "        \n",
    "        df.select(\n",
    "            pl.col(\"nom\").alias(\"nom\"),\n",
    "            \"sexe\"\n",
    "        ).with_columns(type=pl.lit(\"famille\"))\n",
    "    ])\n",
    "    .group_by(\"nom\", \"sexe\", \"type\")\n",
    "    .agg(count=pl.len())\n",
    "    .pivot(\n",
    "        values=\"count\",\n",
    "        index=\"nom\",\n",
    "        columns=[\"sexe\", \"type\"],\n",
    "        aggregate_function=\"sum\"\n",
    "    )\n",
    "    .fill_null(0)\n",
    "    .rename({\n",
    "        '{\"Féminin\",\"famille\"}': \"nombre_femme_nom_famille\",\n",
    "        '{\"Féminin\",\"prenoms\"}': \"nombre_femme_prenom\",\n",
    "        '{\"Masculin\",\"famille\"}': \"nombre_homme_nom_famille\",\n",
    "        '{\"Masculin\",\"prenoms\"}': \"nombre_homme_prenom\"  # Correction orthographique\n",
    "    })\n",
    "    \n",
    ")\n"
   ]
  },
  {
   "cell_type": "code",
   "execution_count": 73,
   "id": "857d8763",
   "metadata": {},
   "outputs": [
    {
     "data": {
      "text/html": [
       "<div><style>\n",
       ".dataframe > thead > tr,\n",
       ".dataframe > tbody > tr {\n",
       "  text-align: right;\n",
       "  white-space: pre-wrap;\n",
       "}\n",
       "</style>\n",
       "<small>shape: (1_868_968, 5)</small><table border=\"1\" class=\"dataframe\"><thead><tr><th>nom</th><th>nombre_femme_prenom</th><th>nombre_homme_prenom</th><th>nombre_homme_nom_famille</th><th>nombre_femme_nom_famille</th></tr><tr><td>str</td><td>u32</td><td>u32</td><td>u32</td><td>u32</td></tr></thead><tbody><tr><td>&quot;kinedenin&quot;</td><td>5</td><td>0</td><td>0</td><td>0</td></tr><tr><td>&quot;bouliguissa&quot;</td><td>1</td><td>0</td><td>0</td><td>0</td></tr><tr><td>&quot;sousunle&quot;</td><td>0</td><td>1</td><td>0</td><td>0</td></tr><tr><td>&quot;naise&quot;</td><td>9</td><td>2</td><td>1</td><td>0</td></tr><tr><td>&quot;tedjouma&quot;</td><td>4</td><td>0</td><td>0</td><td>0</td></tr><tr><td>&hellip;</td><td>&hellip;</td><td>&hellip;</td><td>&hellip;</td><td>&hellip;</td></tr><tr><td>&quot;koualerou&quot;</td><td>0</td><td>0</td><td>0</td><td>1</td></tr><tr><td>&quot;moyemi&quot;</td><td>2</td><td>0</td><td>0</td><td>0</td></tr><tr><td>&quot;huberdine&quot;</td><td>1</td><td>0</td><td>0</td><td>0</td></tr><tr><td>&quot;tatiau&quot;</td><td>1</td><td>0</td><td>0</td><td>0</td></tr><tr><td>&quot;jatinuel&quot;</td><td>0</td><td>1</td><td>0</td><td>0</td></tr></tbody></table></div>"
      ],
      "text/plain": [
       "shape: (1_868_968, 5)\n",
       "┌─────────────┬─────────────────────┬────────────────────┬────────────────────┬────────────────────┐\n",
       "│ nom         ┆ nombre_femme_prenom ┆ nombre_homme_preno ┆ nombre_homme_nom_f ┆ nombre_femme_nom_f │\n",
       "│ ---         ┆ ---                 ┆ m                  ┆ amille             ┆ amille             │\n",
       "│ str         ┆ u32                 ┆ ---                ┆ ---                ┆ ---                │\n",
       "│             ┆                     ┆ u32                ┆ u32                ┆ u32                │\n",
       "╞═════════════╪═════════════════════╪════════════════════╪════════════════════╪════════════════════╡\n",
       "│ kinedenin   ┆ 5                   ┆ 0                  ┆ 0                  ┆ 0                  │\n",
       "│ bouliguissa ┆ 1                   ┆ 0                  ┆ 0                  ┆ 0                  │\n",
       "│ sousunle    ┆ 0                   ┆ 1                  ┆ 0                  ┆ 0                  │\n",
       "│ naise       ┆ 9                   ┆ 2                  ┆ 1                  ┆ 0                  │\n",
       "│ tedjouma    ┆ 4                   ┆ 0                  ┆ 0                  ┆ 0                  │\n",
       "│ …           ┆ …                   ┆ …                  ┆ …                  ┆ …                  │\n",
       "│ koualerou   ┆ 0                   ┆ 0                  ┆ 0                  ┆ 1                  │\n",
       "│ moyemi      ┆ 2                   ┆ 0                  ┆ 0                  ┆ 0                  │\n",
       "│ huberdine   ┆ 1                   ┆ 0                  ┆ 0                  ┆ 0                  │\n",
       "│ tatiau      ┆ 1                   ┆ 0                  ┆ 0                  ┆ 0                  │\n",
       "│ jatinuel    ┆ 0                   ┆ 1                  ┆ 0                  ┆ 0                  │\n",
       "└─────────────┴─────────────────────┴────────────────────┴────────────────────┴────────────────────┘"
      ]
     },
     "execution_count": 73,
     "metadata": {},
     "output_type": "execute_result"
    }
   ],
   "source": [
    "stats"
   ]
  },
  {
   "cell_type": "code",
   "execution_count": 74,
   "id": "e4826933",
   "metadata": {},
   "outputs": [],
   "source": [
    "prenom_unique_stats = (\n",
    "    df_exploded.filter(pl.col(\"prenoms\") == pl.col(\"prenom_explode\"))\n",
    "    .group_by(\"prenom_explode\")\n",
    "    .agg(prenom_unique=pl.len())\n",
    ")"
   ]
  },
  {
   "cell_type": "code",
   "execution_count": 75,
   "id": "8d93b83a",
   "metadata": {},
   "outputs": [],
   "source": [
    "final_stats = (\n",
    "    stats.join(\n",
    "        prenom_unique_stats,\n",
    "        left_on=\"nom\",\n",
    "        right_on=\"prenom_explode\",\n",
    "        how=\"left\"\n",
    "    )\n",
    "    .with_columns(\n",
    "        partie_prenom=pl.col(\"nombre_homme_prenom\") + pl.col(\"nombre_femme_prenom\"),\n",
    "        nom_famille=pl.col(\"nombre_homme_nom_famille\") + pl.col(\"nombre_femme_nom_famille\"),\n",
    "        prenom_unique=pl.coalesce(\"prenom_unique\", 0)\n",
    "    )\n",
    "    .select([\n",
    "        \"nom\",\n",
    "        \"partie_prenom\",\n",
    "        \"nom_famille\",\n",
    "        \"prenom_unique\",\n",
    "        \"nombre_homme_prenom\",\n",
    "        \"nombre_homme_nom_famille\",\n",
    "        \"nombre_femme_prenom\",\n",
    "        \"nombre_femme_nom_famille\"\n",
    "    ])\n",
    ")"
   ]
  },
  {
   "cell_type": "code",
   "execution_count": 76,
   "id": "96597e8a",
   "metadata": {},
   "outputs": [
    {
     "data": {
      "text/html": [
       "<div><style>\n",
       ".dataframe > thead > tr,\n",
       ".dataframe > tbody > tr {\n",
       "  text-align: right;\n",
       "  white-space: pre-wrap;\n",
       "}\n",
       "</style>\n",
       "<small>shape: (1_868_968, 8)</small><table border=\"1\" class=\"dataframe\"><thead><tr><th>nom</th><th>partie_prenom</th><th>nom_famille</th><th>prenom_unique</th><th>nombre_homme_prenom</th><th>nombre_homme_nom_famille</th><th>nombre_femme_prenom</th><th>nombre_femme_nom_famille</th></tr><tr><td>str</td><td>u32</td><td>u32</td><td>u32</td><td>u32</td><td>u32</td><td>u32</td><td>u32</td></tr></thead><tbody><tr><td>&quot;kinedenin&quot;</td><td>5</td><td>0</td><td>5</td><td>0</td><td>0</td><td>5</td><td>0</td></tr><tr><td>&quot;bouliguissa&quot;</td><td>1</td><td>0</td><td>1</td><td>0</td><td>0</td><td>1</td><td>0</td></tr><tr><td>&quot;sousunle&quot;</td><td>1</td><td>0</td><td>0</td><td>1</td><td>0</td><td>0</td><td>0</td></tr><tr><td>&quot;naise&quot;</td><td>11</td><td>1</td><td>2</td><td>2</td><td>1</td><td>9</td><td>0</td></tr><tr><td>&quot;tedjouma&quot;</td><td>4</td><td>0</td><td>4</td><td>0</td><td>0</td><td>4</td><td>0</td></tr><tr><td>&hellip;</td><td>&hellip;</td><td>&hellip;</td><td>&hellip;</td><td>&hellip;</td><td>&hellip;</td><td>&hellip;</td><td>&hellip;</td></tr><tr><td>&quot;koualerou&quot;</td><td>0</td><td>1</td><td>0</td><td>0</td><td>0</td><td>0</td><td>1</td></tr><tr><td>&quot;moyemi&quot;</td><td>2</td><td>0</td><td>1</td><td>0</td><td>0</td><td>2</td><td>0</td></tr><tr><td>&quot;huberdine&quot;</td><td>1</td><td>0</td><td>0</td><td>0</td><td>0</td><td>1</td><td>0</td></tr><tr><td>&quot;tatiau&quot;</td><td>1</td><td>0</td><td>1</td><td>0</td><td>0</td><td>1</td><td>0</td></tr><tr><td>&quot;jatinuel&quot;</td><td>1</td><td>0</td><td>0</td><td>1</td><td>0</td><td>0</td><td>0</td></tr></tbody></table></div>"
      ],
      "text/plain": [
       "shape: (1_868_968, 8)\n",
       "┌────────────┬────────────┬────────────┬───────────┬───────────┬───────────┬───────────┬───────────┐\n",
       "│ nom        ┆ partie_pre ┆ nom_famill ┆ prenom_un ┆ nombre_ho ┆ nombre_ho ┆ nombre_fe ┆ nombre_fe │\n",
       "│ ---        ┆ nom        ┆ e          ┆ ique      ┆ mme_preno ┆ mme_nom_f ┆ mme_preno ┆ mme_nom_f │\n",
       "│ str        ┆ ---        ┆ ---        ┆ ---       ┆ m         ┆ amille    ┆ m         ┆ amille    │\n",
       "│            ┆ u32        ┆ u32        ┆ u32       ┆ ---       ┆ ---       ┆ ---       ┆ ---       │\n",
       "│            ┆            ┆            ┆           ┆ u32       ┆ u32       ┆ u32       ┆ u32       │\n",
       "╞════════════╪════════════╪════════════╪═══════════╪═══════════╪═══════════╪═══════════╪═══════════╡\n",
       "│ kinedenin  ┆ 5          ┆ 0          ┆ 5         ┆ 0         ┆ 0         ┆ 5         ┆ 0         │\n",
       "│ bouliguiss ┆ 1          ┆ 0          ┆ 1         ┆ 0         ┆ 0         ┆ 1         ┆ 0         │\n",
       "│ a          ┆            ┆            ┆           ┆           ┆           ┆           ┆           │\n",
       "│ sousunle   ┆ 1          ┆ 0          ┆ 0         ┆ 1         ┆ 0         ┆ 0         ┆ 0         │\n",
       "│ naise      ┆ 11         ┆ 1          ┆ 2         ┆ 2         ┆ 1         ┆ 9         ┆ 0         │\n",
       "│ tedjouma   ┆ 4          ┆ 0          ┆ 4         ┆ 0         ┆ 0         ┆ 4         ┆ 0         │\n",
       "│ …          ┆ …          ┆ …          ┆ …         ┆ …         ┆ …         ┆ …         ┆ …         │\n",
       "│ koualerou  ┆ 0          ┆ 1          ┆ 0         ┆ 0         ┆ 0         ┆ 0         ┆ 1         │\n",
       "│ moyemi     ┆ 2          ┆ 0          ┆ 1         ┆ 0         ┆ 0         ┆ 2         ┆ 0         │\n",
       "│ huberdine  ┆ 1          ┆ 0          ┆ 0         ┆ 0         ┆ 0         ┆ 1         ┆ 0         │\n",
       "│ tatiau     ┆ 1          ┆ 0          ┆ 1         ┆ 0         ┆ 0         ┆ 1         ┆ 0         │\n",
       "│ jatinuel   ┆ 1          ┆ 0          ┆ 0         ┆ 1         ┆ 0         ┆ 0         ┆ 0         │\n",
       "└────────────┴────────────┴────────────┴───────────┴───────────┴───────────┴───────────┴───────────┘"
      ]
     },
     "execution_count": 76,
     "metadata": {},
     "output_type": "execute_result"
    }
   ],
   "source": [
    "final_stats"
   ]
  },
  {
   "cell_type": "code",
   "execution_count": 77,
   "id": "d89284ef",
   "metadata": {},
   "outputs": [],
   "source": [
    "final_stats = (\n",
    "    final_stats\n",
    "    .join(\n",
    "        yearly_stats.unique(subset=[\"name\"]),  # Élimination des doublons\n",
    "        left_on=\"nom\",\n",
    "        right_on=\"name\",\n",
    "        how=\"left\"\n",
    "    )\n",
    "    .pipe(lambda df: df.with_columns(\n",
    "        partie_prenom=pl.coalesce(\"nombre_homme_prenom\", 0) + pl.coalesce(\"nombre_femme_prenom\", 0),\n",
    "        nom_famille=pl.coalesce(\"nombre_homme_nom_famille\", 0) + pl.coalesce(\"nombre_femme_nom_famille\", 0)\n",
    "    ))\n",
    ")"
   ]
  },
  {
   "cell_type": "code",
   "execution_count": 78,
   "id": "42546b52",
   "metadata": {},
   "outputs": [
    {
     "data": {
      "text/html": [
       "<div><style>\n",
       ".dataframe > thead > tr,\n",
       ".dataframe > tbody > tr {\n",
       "  text-align: right;\n",
       "  white-space: pre-wrap;\n",
       "}\n",
       "</style>\n",
       "<small>shape: (1_868_968, 144)</small><table border=\"1\" class=\"dataframe\"><thead><tr><th>nom</th><th>partie_prenom</th><th>nom_famille</th><th>prenom_unique</th><th>nombre_homme_prenom</th><th>nombre_homme_nom_famille</th><th>nombre_femme_prenom</th><th>nombre_femme_nom_famille</th><th>annee_1886</th><th>annee_1887</th><th>annee_1888</th><th>annee_1889</th><th>annee_1890</th><th>annee_1891</th><th>annee_1892</th><th>annee_1893</th><th>annee_1894</th><th>annee_1895</th><th>annee_1896</th><th>annee_1897</th><th>annee_1898</th><th>annee_1899</th><th>annee_1900</th><th>annee_1901</th><th>annee_1902</th><th>annee_1903</th><th>annee_1904</th><th>annee_1905</th><th>annee_1906</th><th>annee_1907</th><th>annee_1908</th><th>annee_1909</th><th>annee_1910</th><th>annee_1911</th><th>annee_1912</th><th>annee_1913</th><th>annee_1914</th><th>&hellip;</th><th>annee_1985</th><th>annee_1986</th><th>annee_1987</th><th>annee_1988</th><th>annee_1989</th><th>annee_1990</th><th>annee_1991</th><th>annee_1992</th><th>annee_1993</th><th>annee_1994</th><th>annee_1995</th><th>annee_1996</th><th>annee_1997</th><th>annee_1998</th><th>annee_1999</th><th>annee_2000</th><th>annee_2001</th><th>annee_2002</th><th>annee_2003</th><th>annee_2004</th><th>annee_2005</th><th>annee_2006</th><th>annee_2007</th><th>annee_2008</th><th>annee_2009</th><th>annee_2010</th><th>annee_2011</th><th>annee_2012</th><th>annee_2013</th><th>annee_2014</th><th>annee_2015</th><th>annee_2016</th><th>annee_2017</th><th>annee_2018</th><th>annee_2019</th><th>annee_2020</th><th>annee_2021</th></tr><tr><td>str</td><td>u32</td><td>u32</td><td>u32</td><td>u32</td><td>u32</td><td>u32</td><td>u32</td><td>u32</td><td>u32</td><td>u32</td><td>u32</td><td>u32</td><td>u32</td><td>u32</td><td>u32</td><td>u32</td><td>u32</td><td>u32</td><td>u32</td><td>u32</td><td>u32</td><td>u32</td><td>u32</td><td>u32</td><td>u32</td><td>u32</td><td>u32</td><td>u32</td><td>u32</td><td>u32</td><td>u32</td><td>u32</td><td>u32</td><td>u32</td><td>u32</td><td>u32</td><td>&hellip;</td><td>u32</td><td>u32</td><td>u32</td><td>u32</td><td>u32</td><td>u32</td><td>u32</td><td>u32</td><td>u32</td><td>u32</td><td>u32</td><td>u32</td><td>u32</td><td>u32</td><td>u32</td><td>u32</td><td>u32</td><td>u32</td><td>u32</td><td>u32</td><td>u32</td><td>u32</td><td>u32</td><td>u32</td><td>u32</td><td>u32</td><td>u32</td><td>u32</td><td>u32</td><td>u32</td><td>u32</td><td>u32</td><td>u32</td><td>u32</td><td>u32</td><td>u32</td><td>u32</td></tr></thead><tbody><tr><td>&quot;kinedenin&quot;</td><td>5</td><td>0</td><td>5</td><td>0</td><td>0</td><td>5</td><td>0</td><td>0</td><td>0</td><td>0</td><td>0</td><td>0</td><td>0</td><td>0</td><td>0</td><td>0</td><td>0</td><td>0</td><td>0</td><td>0</td><td>0</td><td>0</td><td>0</td><td>0</td><td>0</td><td>0</td><td>0</td><td>0</td><td>0</td><td>0</td><td>0</td><td>0</td><td>0</td><td>0</td><td>0</td><td>0</td><td>&hellip;</td><td>0</td><td>1</td><td>0</td><td>0</td><td>0</td><td>0</td><td>0</td><td>0</td><td>0</td><td>0</td><td>0</td><td>0</td><td>0</td><td>0</td><td>0</td><td>1</td><td>0</td><td>0</td><td>1</td><td>0</td><td>0</td><td>0</td><td>0</td><td>0</td><td>0</td><td>1</td><td>0</td><td>0</td><td>0</td><td>0</td><td>0</td><td>0</td><td>1</td><td>0</td><td>0</td><td>0</td><td>0</td></tr><tr><td>&quot;bouliguissa&quot;</td><td>1</td><td>0</td><td>1</td><td>0</td><td>0</td><td>1</td><td>0</td><td>0</td><td>0</td><td>0</td><td>0</td><td>0</td><td>0</td><td>0</td><td>0</td><td>0</td><td>0</td><td>0</td><td>0</td><td>0</td><td>0</td><td>0</td><td>0</td><td>0</td><td>0</td><td>0</td><td>0</td><td>0</td><td>0</td><td>0</td><td>0</td><td>0</td><td>0</td><td>0</td><td>0</td><td>0</td><td>&hellip;</td><td>0</td><td>0</td><td>0</td><td>0</td><td>0</td><td>0</td><td>0</td><td>0</td><td>0</td><td>0</td><td>0</td><td>0</td><td>0</td><td>0</td><td>0</td><td>0</td><td>0</td><td>0</td><td>0</td><td>0</td><td>0</td><td>0</td><td>0</td><td>0</td><td>0</td><td>0</td><td>0</td><td>0</td><td>0</td><td>0</td><td>0</td><td>0</td><td>0</td><td>0</td><td>0</td><td>0</td><td>0</td></tr><tr><td>&quot;sousunle&quot;</td><td>1</td><td>0</td><td>0</td><td>1</td><td>0</td><td>0</td><td>0</td><td>0</td><td>0</td><td>0</td><td>0</td><td>0</td><td>0</td><td>0</td><td>0</td><td>0</td><td>0</td><td>0</td><td>0</td><td>0</td><td>0</td><td>0</td><td>0</td><td>0</td><td>0</td><td>0</td><td>0</td><td>0</td><td>0</td><td>0</td><td>0</td><td>0</td><td>0</td><td>0</td><td>0</td><td>0</td><td>&hellip;</td><td>0</td><td>0</td><td>0</td><td>0</td><td>0</td><td>0</td><td>0</td><td>0</td><td>0</td><td>0</td><td>0</td><td>0</td><td>0</td><td>0</td><td>1</td><td>0</td><td>0</td><td>0</td><td>0</td><td>0</td><td>0</td><td>0</td><td>0</td><td>0</td><td>0</td><td>0</td><td>0</td><td>0</td><td>0</td><td>0</td><td>0</td><td>0</td><td>0</td><td>0</td><td>0</td><td>0</td><td>0</td></tr><tr><td>&quot;naise&quot;</td><td>11</td><td>1</td><td>2</td><td>2</td><td>1</td><td>9</td><td>0</td><td>0</td><td>0</td><td>0</td><td>0</td><td>0</td><td>0</td><td>0</td><td>0</td><td>0</td><td>0</td><td>0</td><td>0</td><td>0</td><td>0</td><td>0</td><td>0</td><td>0</td><td>0</td><td>0</td><td>0</td><td>0</td><td>0</td><td>0</td><td>0</td><td>0</td><td>0</td><td>0</td><td>0</td><td>0</td><td>&hellip;</td><td>1</td><td>1</td><td>0</td><td>0</td><td>0</td><td>0</td><td>0</td><td>0</td><td>1</td><td>0</td><td>0</td><td>0</td><td>0</td><td>0</td><td>0</td><td>0</td><td>0</td><td>0</td><td>0</td><td>0</td><td>0</td><td>0</td><td>0</td><td>0</td><td>2</td><td>0</td><td>0</td><td>1</td><td>0</td><td>1</td><td>0</td><td>0</td><td>0</td><td>0</td><td>2</td><td>1</td><td>0</td></tr><tr><td>&quot;tedjouma&quot;</td><td>4</td><td>0</td><td>4</td><td>0</td><td>0</td><td>4</td><td>0</td><td>0</td><td>0</td><td>0</td><td>0</td><td>0</td><td>0</td><td>0</td><td>0</td><td>0</td><td>0</td><td>0</td><td>0</td><td>0</td><td>0</td><td>0</td><td>0</td><td>0</td><td>0</td><td>0</td><td>0</td><td>0</td><td>0</td><td>0</td><td>0</td><td>0</td><td>0</td><td>0</td><td>0</td><td>0</td><td>&hellip;</td><td>0</td><td>0</td><td>0</td><td>1</td><td>0</td><td>0</td><td>0</td><td>0</td><td>0</td><td>0</td><td>0</td><td>0</td><td>0</td><td>0</td><td>0</td><td>0</td><td>0</td><td>0</td><td>0</td><td>0</td><td>0</td><td>0</td><td>0</td><td>0</td><td>0</td><td>0</td><td>0</td><td>0</td><td>0</td><td>0</td><td>1</td><td>0</td><td>1</td><td>0</td><td>0</td><td>0</td><td>0</td></tr><tr><td>&hellip;</td><td>&hellip;</td><td>&hellip;</td><td>&hellip;</td><td>&hellip;</td><td>&hellip;</td><td>&hellip;</td><td>&hellip;</td><td>&hellip;</td><td>&hellip;</td><td>&hellip;</td><td>&hellip;</td><td>&hellip;</td><td>&hellip;</td><td>&hellip;</td><td>&hellip;</td><td>&hellip;</td><td>&hellip;</td><td>&hellip;</td><td>&hellip;</td><td>&hellip;</td><td>&hellip;</td><td>&hellip;</td><td>&hellip;</td><td>&hellip;</td><td>&hellip;</td><td>&hellip;</td><td>&hellip;</td><td>&hellip;</td><td>&hellip;</td><td>&hellip;</td><td>&hellip;</td><td>&hellip;</td><td>&hellip;</td><td>&hellip;</td><td>&hellip;</td><td>&hellip;</td><td>&hellip;</td><td>&hellip;</td><td>&hellip;</td><td>&hellip;</td><td>&hellip;</td><td>&hellip;</td><td>&hellip;</td><td>&hellip;</td><td>&hellip;</td><td>&hellip;</td><td>&hellip;</td><td>&hellip;</td><td>&hellip;</td><td>&hellip;</td><td>&hellip;</td><td>&hellip;</td><td>&hellip;</td><td>&hellip;</td><td>&hellip;</td><td>&hellip;</td><td>&hellip;</td><td>&hellip;</td><td>&hellip;</td><td>&hellip;</td><td>&hellip;</td><td>&hellip;</td><td>&hellip;</td><td>&hellip;</td><td>&hellip;</td><td>&hellip;</td><td>&hellip;</td><td>&hellip;</td><td>&hellip;</td><td>&hellip;</td><td>&hellip;</td><td>&hellip;</td><td>&hellip;</td><td>&hellip;</td></tr><tr><td>&quot;koualerou&quot;</td><td>0</td><td>1</td><td>0</td><td>0</td><td>0</td><td>0</td><td>1</td><td>0</td><td>0</td><td>0</td><td>0</td><td>0</td><td>0</td><td>0</td><td>0</td><td>0</td><td>0</td><td>0</td><td>0</td><td>0</td><td>0</td><td>0</td><td>0</td><td>0</td><td>0</td><td>0</td><td>0</td><td>0</td><td>0</td><td>0</td><td>0</td><td>0</td><td>0</td><td>0</td><td>0</td><td>0</td><td>&hellip;</td><td>0</td><td>0</td><td>0</td><td>0</td><td>0</td><td>0</td><td>0</td><td>0</td><td>0</td><td>0</td><td>0</td><td>0</td><td>0</td><td>0</td><td>0</td><td>0</td><td>0</td><td>0</td><td>0</td><td>0</td><td>0</td><td>0</td><td>0</td><td>0</td><td>0</td><td>0</td><td>0</td><td>0</td><td>0</td><td>0</td><td>0</td><td>0</td><td>0</td><td>0</td><td>0</td><td>0</td><td>0</td></tr><tr><td>&quot;moyemi&quot;</td><td>2</td><td>0</td><td>1</td><td>0</td><td>0</td><td>2</td><td>0</td><td>0</td><td>0</td><td>0</td><td>0</td><td>0</td><td>0</td><td>0</td><td>0</td><td>0</td><td>0</td><td>0</td><td>0</td><td>0</td><td>0</td><td>0</td><td>0</td><td>0</td><td>0</td><td>0</td><td>0</td><td>0</td><td>0</td><td>0</td><td>0</td><td>0</td><td>0</td><td>0</td><td>0</td><td>0</td><td>&hellip;</td><td>0</td><td>0</td><td>0</td><td>0</td><td>0</td><td>0</td><td>0</td><td>0</td><td>0</td><td>0</td><td>0</td><td>0</td><td>0</td><td>0</td><td>0</td><td>0</td><td>0</td><td>0</td><td>0</td><td>0</td><td>0</td><td>0</td><td>0</td><td>0</td><td>0</td><td>0</td><td>0</td><td>0</td><td>0</td><td>0</td><td>0</td><td>0</td><td>0</td><td>1</td><td>0</td><td>1</td><td>0</td></tr><tr><td>&quot;huberdine&quot;</td><td>1</td><td>0</td><td>0</td><td>0</td><td>0</td><td>1</td><td>0</td><td>0</td><td>0</td><td>0</td><td>0</td><td>0</td><td>0</td><td>0</td><td>0</td><td>0</td><td>0</td><td>0</td><td>0</td><td>0</td><td>0</td><td>0</td><td>0</td><td>0</td><td>0</td><td>0</td><td>0</td><td>0</td><td>0</td><td>0</td><td>0</td><td>0</td><td>0</td><td>0</td><td>0</td><td>0</td><td>&hellip;</td><td>0</td><td>0</td><td>0</td><td>0</td><td>0</td><td>0</td><td>0</td><td>0</td><td>0</td><td>0</td><td>0</td><td>0</td><td>0</td><td>0</td><td>0</td><td>0</td><td>0</td><td>0</td><td>0</td><td>0</td><td>0</td><td>0</td><td>1</td><td>0</td><td>0</td><td>0</td><td>0</td><td>0</td><td>0</td><td>0</td><td>0</td><td>0</td><td>0</td><td>0</td><td>0</td><td>0</td><td>0</td></tr><tr><td>&quot;tatiau&quot;</td><td>1</td><td>0</td><td>1</td><td>0</td><td>0</td><td>1</td><td>0</td><td>0</td><td>0</td><td>0</td><td>0</td><td>0</td><td>0</td><td>0</td><td>0</td><td>0</td><td>0</td><td>0</td><td>0</td><td>0</td><td>0</td><td>0</td><td>0</td><td>0</td><td>0</td><td>0</td><td>0</td><td>0</td><td>0</td><td>0</td><td>0</td><td>0</td><td>0</td><td>0</td><td>0</td><td>0</td><td>&hellip;</td><td>0</td><td>0</td><td>0</td><td>0</td><td>0</td><td>0</td><td>0</td><td>0</td><td>0</td><td>0</td><td>0</td><td>0</td><td>0</td><td>0</td><td>0</td><td>0</td><td>0</td><td>0</td><td>0</td><td>0</td><td>0</td><td>0</td><td>0</td><td>0</td><td>0</td><td>0</td><td>0</td><td>0</td><td>0</td><td>0</td><td>0</td><td>0</td><td>0</td><td>0</td><td>0</td><td>0</td><td>0</td></tr><tr><td>&quot;jatinuel&quot;</td><td>1</td><td>0</td><td>0</td><td>1</td><td>0</td><td>0</td><td>0</td><td>0</td><td>0</td><td>0</td><td>0</td><td>0</td><td>0</td><td>0</td><td>0</td><td>0</td><td>0</td><td>0</td><td>0</td><td>0</td><td>0</td><td>0</td><td>0</td><td>0</td><td>0</td><td>0</td><td>0</td><td>0</td><td>0</td><td>0</td><td>0</td><td>0</td><td>0</td><td>0</td><td>0</td><td>0</td><td>&hellip;</td><td>0</td><td>0</td><td>0</td><td>0</td><td>0</td><td>0</td><td>0</td><td>0</td><td>0</td><td>0</td><td>0</td><td>0</td><td>0</td><td>0</td><td>0</td><td>0</td><td>0</td><td>0</td><td>0</td><td>0</td><td>0</td><td>0</td><td>0</td><td>0</td><td>0</td><td>0</td><td>0</td><td>0</td><td>1</td><td>0</td><td>0</td><td>0</td><td>0</td><td>0</td><td>0</td><td>0</td><td>0</td></tr></tbody></table></div>"
      ],
      "text/plain": [
       "shape: (1_868_968, 144)\n",
       "┌───────────┬───────────┬───────────┬───────────┬───┬───────────┬───────────┬───────────┬──────────┐\n",
       "│ nom       ┆ partie_pr ┆ nom_famil ┆ prenom_un ┆ … ┆ annee_201 ┆ annee_201 ┆ annee_202 ┆ annee_20 │\n",
       "│ ---       ┆ enom      ┆ le        ┆ ique      ┆   ┆ 8         ┆ 9         ┆ 0         ┆ 21       │\n",
       "│ str       ┆ ---       ┆ ---       ┆ ---       ┆   ┆ ---       ┆ ---       ┆ ---       ┆ ---      │\n",
       "│           ┆ u32       ┆ u32       ┆ u32       ┆   ┆ u32       ┆ u32       ┆ u32       ┆ u32      │\n",
       "╞═══════════╪═══════════╪═══════════╪═══════════╪═══╪═══════════╪═══════════╪═══════════╪══════════╡\n",
       "│ kinedenin ┆ 5         ┆ 0         ┆ 5         ┆ … ┆ 0         ┆ 0         ┆ 0         ┆ 0        │\n",
       "│ bouliguis ┆ 1         ┆ 0         ┆ 1         ┆ … ┆ 0         ┆ 0         ┆ 0         ┆ 0        │\n",
       "│ sa        ┆           ┆           ┆           ┆   ┆           ┆           ┆           ┆          │\n",
       "│ sousunle  ┆ 1         ┆ 0         ┆ 0         ┆ … ┆ 0         ┆ 0         ┆ 0         ┆ 0        │\n",
       "│ naise     ┆ 11        ┆ 1         ┆ 2         ┆ … ┆ 0         ┆ 2         ┆ 1         ┆ 0        │\n",
       "│ tedjouma  ┆ 4         ┆ 0         ┆ 4         ┆ … ┆ 0         ┆ 0         ┆ 0         ┆ 0        │\n",
       "│ …         ┆ …         ┆ …         ┆ …         ┆ … ┆ …         ┆ …         ┆ …         ┆ …        │\n",
       "│ koualerou ┆ 0         ┆ 1         ┆ 0         ┆ … ┆ 0         ┆ 0         ┆ 0         ┆ 0        │\n",
       "│ moyemi    ┆ 2         ┆ 0         ┆ 1         ┆ … ┆ 1         ┆ 0         ┆ 1         ┆ 0        │\n",
       "│ huberdine ┆ 1         ┆ 0         ┆ 0         ┆ … ┆ 0         ┆ 0         ┆ 0         ┆ 0        │\n",
       "│ tatiau    ┆ 1         ┆ 0         ┆ 1         ┆ … ┆ 0         ┆ 0         ┆ 0         ┆ 0        │\n",
       "│ jatinuel  ┆ 1         ┆ 0         ┆ 0         ┆ … ┆ 0         ┆ 0         ┆ 0         ┆ 0        │\n",
       "└───────────┴───────────┴───────────┴───────────┴───┴───────────┴───────────┴───────────┴──────────┘"
      ]
     },
     "execution_count": 78,
     "metadata": {},
     "output_type": "execute_result"
    }
   ],
   "source": [
    "final_stats"
   ]
  },
  {
   "cell_type": "code",
   "execution_count": 79,
   "id": "736abca6",
   "metadata": {},
   "outputs": [],
   "source": [
    "final_stats.write_parquet(\n",
    "     files_dir / \"nom_prenoms_overlay_vf_lower_trim.parquet\",\n",
    "       compression=\"zstd\"\n",
    ")"
   ]
  }
 ],
 "metadata": {
  "kernelspec": {
   "display_name": "search_n",
   "language": "python",
   "name": "python3"
  },
  "language_info": {
   "codemirror_mode": {
    "name": "ipython",
    "version": 3
   },
   "file_extension": ".py",
   "mimetype": "text/x-python",
   "name": "python",
   "nbconvert_exporter": "python",
   "pygments_lexer": "ipython3",
   "version": "3.13.2"
  }
 },
 "nbformat": 4,
 "nbformat_minor": 5
}
