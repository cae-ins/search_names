{
 "cells": [
  {
   "cell_type": "code",
   "execution_count": 54,
   "metadata": {},
   "outputs": [],
   "source": [
    "import polars as pl\n",
    "from pathlib import Path"
   ]
  },
  {
   "cell_type": "code",
   "execution_count": 55,
   "metadata": {},
   "outputs": [],
   "source": [
    "files_dir = Path(\"../files\")  # Dossier au même niveau que le répertoire actuel"
   ]
  },
  {
   "cell_type": "code",
   "execution_count": 56,
   "metadata": {},
   "outputs": [
    {
     "name": "stderr",
     "output_type": "stream",
     "text": [
      "C:\\Users\\USER\\AppData\\Local\\Temp\\ipykernel_1660\\1450877043.py:2: DeprecationWarning: The argument `dtypes` for `read_csv` is deprecated. It has been renamed to `schema_overrides`.\n",
      "  df = pl.read_csv(\n"
     ]
    }
   ],
   "source": [
    "# Charger le CSV avec les bonnes colonnes\n",
    "df = pl.read_csv(\n",
    "    files_dir/ \"nom_prenoms_lower_trim.csv\",\n",
    "    separator=\",\",  # Ajuster selon le séparateur réel\n",
    "    new_columns=[\"nom\", \"prenoms\", \"sexe\", \"age\"],\n",
    "    dtypes={\n",
    "        \"nom\": pl.Utf8,\n",
    "        \"prenoms\": pl.Utf8,\n",
    "        \"sexe\": pl.Categorical,  # Optimisation mémoire\n",
    "        \"age\": pl.UInt8\n",
    "    }\n",
    ")"
   ]
  },
  {
   "cell_type": "code",
   "execution_count": 57,
   "metadata": {},
   "outputs": [
    {
     "data": {
      "text/html": [
       "<div><style>\n",
       ".dataframe > thead > tr,\n",
       ".dataframe > tbody > tr {\n",
       "  text-align: right;\n",
       "  white-space: pre-wrap;\n",
       "}\n",
       "</style>\n",
       "<small>shape: (27_168_543, 4)</small><table border=\"1\" class=\"dataframe\"><thead><tr><th>nom</th><th>prenoms</th><th>sexe</th><th>age</th></tr><tr><td>str</td><td>str</td><td>cat</td><td>u8</td></tr></thead><tbody><tr><td>&quot;lago&quot;</td><td>&quot;serge&quot;</td><td>&quot;Masculin&quot;</td><td>43</td></tr><tr><td>&quot;lago&quot;</td><td>&quot;renaud&quot;</td><td>&quot;Masculin&quot;</td><td>40</td></tr><tr><td>&quot;lago&quot;</td><td>&quot;therese&quot;</td><td>&quot;Féminin&quot;</td><td>68</td></tr><tr><td>&quot;bode&quot;</td><td>&quot;charleine&quot;</td><td>&quot;Féminin&quot;</td><td>25</td></tr><tr><td>&quot;dina&quot;</td><td>&quot;dina&quot;</td><td>&quot;Féminin&quot;</td><td>27</td></tr><tr><td>&hellip;</td><td>&hellip;</td><td>&hellip;</td><td>&hellip;</td></tr><tr><td>&quot;diallo&quot;</td><td>&quot;maiga&quot;</td><td>&quot;Masculin&quot;</td><td>46</td></tr><tr><td>&quot;diallo&quot;</td><td>&quot;amina&quot;</td><td>&quot;Féminin&quot;</td><td>28</td></tr><tr><td>&quot;diallo&quot;</td><td>&quot;ramata&quot;</td><td>&quot;Féminin&quot;</td><td>21</td></tr><tr><td>&quot;ouedrago&quot;</td><td>&quot;salif&quot;</td><td>&quot;Masculin&quot;</td><td>24</td></tr><tr><td>&quot;maiga&quot;</td><td>&quot;mariam&quot;</td><td>&quot;Féminin&quot;</td><td>22</td></tr></tbody></table></div>"
      ],
      "text/plain": [
       "shape: (27_168_543, 4)\n",
       "┌──────────┬───────────┬──────────┬─────┐\n",
       "│ nom      ┆ prenoms   ┆ sexe     ┆ age │\n",
       "│ ---      ┆ ---       ┆ ---      ┆ --- │\n",
       "│ str      ┆ str       ┆ cat      ┆ u8  │\n",
       "╞══════════╪═══════════╪══════════╪═════╡\n",
       "│ lago     ┆ serge     ┆ Masculin ┆ 43  │\n",
       "│ lago     ┆ renaud    ┆ Masculin ┆ 40  │\n",
       "│ lago     ┆ therese   ┆ Féminin  ┆ 68  │\n",
       "│ bode     ┆ charleine ┆ Féminin  ┆ 25  │\n",
       "│ dina     ┆ dina      ┆ Féminin  ┆ 27  │\n",
       "│ …        ┆ …         ┆ …        ┆ …   │\n",
       "│ diallo   ┆ maiga     ┆ Masculin ┆ 46  │\n",
       "│ diallo   ┆ amina     ┆ Féminin  ┆ 28  │\n",
       "│ diallo   ┆ ramata    ┆ Féminin  ┆ 21  │\n",
       "│ ouedrago ┆ salif     ┆ Masculin ┆ 24  │\n",
       "│ maiga    ┆ mariam    ┆ Féminin  ┆ 22  │\n",
       "└──────────┴───────────┴──────────┴─────┘"
      ]
     },
     "execution_count": 57,
     "metadata": {},
     "output_type": "execute_result"
    }
   ],
   "source": [
    "df"
   ]
  },
  {
   "cell_type": "code",
   "execution_count": 59,
   "metadata": {},
   "outputs": [],
   "source": [
    "df_exploded = df.with_columns(\n",
    "    pl.col(\"prenoms\").str.split(\" \").alias(\"prenoms_split\")\n",
    ").explode(\"prenoms_split\").rename({\"prenoms_split\": \"prenom_explode\"})"
   ]
  },
  {
   "cell_type": "code",
   "execution_count": 60,
   "metadata": {},
   "outputs": [
    {
     "data": {
      "text/html": [
       "<div><style>\n",
       ".dataframe > thead > tr,\n",
       ".dataframe > tbody > tr {\n",
       "  text-align: right;\n",
       "  white-space: pre-wrap;\n",
       "}\n",
       "</style>\n",
       "<small>shape: (37_488_637, 5)</small><table border=\"1\" class=\"dataframe\"><thead><tr><th>nom</th><th>prenoms</th><th>sexe</th><th>age</th><th>prenom_explode</th></tr><tr><td>str</td><td>str</td><td>cat</td><td>u8</td><td>str</td></tr></thead><tbody><tr><td>&quot;lago&quot;</td><td>&quot;serge&quot;</td><td>&quot;Masculin&quot;</td><td>43</td><td>&quot;serge&quot;</td></tr><tr><td>&quot;lago&quot;</td><td>&quot;renaud&quot;</td><td>&quot;Masculin&quot;</td><td>40</td><td>&quot;renaud&quot;</td></tr><tr><td>&quot;lago&quot;</td><td>&quot;therese&quot;</td><td>&quot;Féminin&quot;</td><td>68</td><td>&quot;therese&quot;</td></tr><tr><td>&quot;bode&quot;</td><td>&quot;charleine&quot;</td><td>&quot;Féminin&quot;</td><td>25</td><td>&quot;charleine&quot;</td></tr><tr><td>&quot;dina&quot;</td><td>&quot;dina&quot;</td><td>&quot;Féminin&quot;</td><td>27</td><td>&quot;dina&quot;</td></tr><tr><td>&hellip;</td><td>&hellip;</td><td>&hellip;</td><td>&hellip;</td><td>&hellip;</td></tr><tr><td>&quot;diallo&quot;</td><td>&quot;maiga&quot;</td><td>&quot;Masculin&quot;</td><td>46</td><td>&quot;maiga&quot;</td></tr><tr><td>&quot;diallo&quot;</td><td>&quot;amina&quot;</td><td>&quot;Féminin&quot;</td><td>28</td><td>&quot;amina&quot;</td></tr><tr><td>&quot;diallo&quot;</td><td>&quot;ramata&quot;</td><td>&quot;Féminin&quot;</td><td>21</td><td>&quot;ramata&quot;</td></tr><tr><td>&quot;ouedrago&quot;</td><td>&quot;salif&quot;</td><td>&quot;Masculin&quot;</td><td>24</td><td>&quot;salif&quot;</td></tr><tr><td>&quot;maiga&quot;</td><td>&quot;mariam&quot;</td><td>&quot;Féminin&quot;</td><td>22</td><td>&quot;mariam&quot;</td></tr></tbody></table></div>"
      ],
      "text/plain": [
       "shape: (37_488_637, 5)\n",
       "┌──────────┬───────────┬──────────┬─────┬────────────────┐\n",
       "│ nom      ┆ prenoms   ┆ sexe     ┆ age ┆ prenom_explode │\n",
       "│ ---      ┆ ---       ┆ ---      ┆ --- ┆ ---            │\n",
       "│ str      ┆ str       ┆ cat      ┆ u8  ┆ str            │\n",
       "╞══════════╪═══════════╪══════════╪═════╪════════════════╡\n",
       "│ lago     ┆ serge     ┆ Masculin ┆ 43  ┆ serge          │\n",
       "│ lago     ┆ renaud    ┆ Masculin ┆ 40  ┆ renaud         │\n",
       "│ lago     ┆ therese   ┆ Féminin  ┆ 68  ┆ therese        │\n",
       "│ bode     ┆ charleine ┆ Féminin  ┆ 25  ┆ charleine      │\n",
       "│ dina     ┆ dina      ┆ Féminin  ┆ 27  ┆ dina           │\n",
       "│ …        ┆ …         ┆ …        ┆ …   ┆ …              │\n",
       "│ diallo   ┆ maiga     ┆ Masculin ┆ 46  ┆ maiga          │\n",
       "│ diallo   ┆ amina     ┆ Féminin  ┆ 28  ┆ amina          │\n",
       "│ diallo   ┆ ramata    ┆ Féminin  ┆ 21  ┆ ramata         │\n",
       "│ ouedrago ┆ salif     ┆ Masculin ┆ 24  ┆ salif          │\n",
       "│ maiga    ┆ mariam    ┆ Féminin  ┆ 22  ┆ mariam         │\n",
       "└──────────┴───────────┴──────────┴─────┴────────────────┘"
      ]
     },
     "execution_count": 60,
     "metadata": {},
     "output_type": "execute_result"
    }
   ],
   "source": [
    "df_exploded"
   ]
  },
  {
   "cell_type": "code",
   "execution_count": 61,
   "metadata": {},
   "outputs": [
    {
     "name": "stderr",
     "output_type": "stream",
     "text": [
      "C:\\Users\\USER\\AppData\\Local\\Temp\\ipykernel_1660\\2881166339.py:15: DeprecationWarning: The argument `columns` for `DataFrame.pivot` is deprecated. It has been renamed to `on`.\n",
      "  .pivot(\n"
     ]
    }
   ],
   "source": [
    "stats = (\n",
    "    pl.concat([\n",
    "        df_exploded.select(\n",
    "            pl.col(\"prenom_explode\").alias(\"nom\"), \n",
    "            \"sexe\"\n",
    "        ).with_columns(type=pl.lit(\"prenoms\")),\n",
    "        \n",
    "        df.select(\n",
    "            pl.col(\"nom\").alias(\"nom\"),\n",
    "            \"sexe\"\n",
    "        ).with_columns(type=pl.lit(\"famille\"))\n",
    "    ])\n",
    "    .group_by(\"nom\", \"sexe\", \"type\")\n",
    "    .agg(count=pl.len())\n",
    "    .pivot(\n",
    "        values=\"count\",\n",
    "        index=\"nom\",\n",
    "        columns=[\"sexe\", \"type\"],\n",
    "        aggregate_function=\"sum\"\n",
    "    )\n",
    "    .fill_null(0)\n",
    "    .rename({\n",
    "        '{\"Féminin\",\"famille\"}': \"nombre_femme_nom_famille\",\n",
    "        '{\"Féminin\",\"prenoms\"}': \"nombre_femme_prenom\",\n",
    "        '{\"Masculin\",\"famille\"}': \"nombre_homme_nom_famille\",\n",
    "        '{\"Masculin\",\"prenoms\"}': \"nombre_homme_prenom\"  # Correction orthographique\n",
    "    })\n",
    "    \n",
    ")\n"
   ]
  },
  {
   "cell_type": "code",
   "execution_count": 62,
   "metadata": {},
   "outputs": [
    {
     "data": {
      "text/html": [
       "<div><style>\n",
       ".dataframe > thead > tr,\n",
       ".dataframe > tbody > tr {\n",
       "  text-align: right;\n",
       "  white-space: pre-wrap;\n",
       "}\n",
       "</style>\n",
       "<small>shape: (1_868_968, 5)</small><table border=\"1\" class=\"dataframe\"><thead><tr><th>nom</th><th>nombre_femme_prenom</th><th>nombre_homme_nom_famille</th><th>nombre_homme_prenom</th><th>nombre_femme_nom_famille</th></tr><tr><td>str</td><td>u32</td><td>u32</td><td>u32</td><td>u32</td></tr></thead><tbody><tr><td>&quot;djenienba&quot;</td><td>5</td><td>0</td><td>0</td><td>1</td></tr><tr><td>&quot;saindrin&quot;</td><td>0</td><td>3</td><td>0</td><td>2</td></tr><tr><td>&quot;otiniel&quot;</td><td>50</td><td>2</td><td>873</td><td>1</td></tr><tr><td>&quot;binjalerne&quot;</td><td>1</td><td>0</td><td>0</td><td>0</td></tr><tr><td>&quot;vasikiri&quot;</td><td>0</td><td>1</td><td>4</td><td>0</td></tr><tr><td>&hellip;</td><td>&hellip;</td><td>&hellip;</td><td>&hellip;</td><td>&hellip;</td></tr><tr><td>&quot;deasoi&quot;</td><td>1</td><td>0</td><td>0</td><td>0</td></tr><tr><td>&quot;falafolo&quot;</td><td>0</td><td>0</td><td>1</td><td>0</td></tr><tr><td>&quot;yode sarah&quot;</td><td>0</td><td>0</td><td>0</td><td>1</td></tr><tr><td>&quot;dole zlanglousseu&quot;</td><td>0</td><td>0</td><td>0</td><td>1</td></tr><tr><td>&quot;tiendrolo&quot;</td><td>0</td><td>0</td><td>1</td><td>0</td></tr></tbody></table></div>"
      ],
      "text/plain": [
       "shape: (1_868_968, 5)\n",
       "┌──────────────┬────────────────────┬────────────────────┬────────────────────┬────────────────────┐\n",
       "│ nom          ┆ nombre_femme_preno ┆ nombre_homme_nom_f ┆ nombre_homme_preno ┆ nombre_femme_nom_f │\n",
       "│ ---          ┆ m                  ┆ amille             ┆ m                  ┆ amille             │\n",
       "│ str          ┆ ---                ┆ ---                ┆ ---                ┆ ---                │\n",
       "│              ┆ u32                ┆ u32                ┆ u32                ┆ u32                │\n",
       "╞══════════════╪════════════════════╪════════════════════╪════════════════════╪════════════════════╡\n",
       "│ djenienba    ┆ 5                  ┆ 0                  ┆ 0                  ┆ 1                  │\n",
       "│ saindrin     ┆ 0                  ┆ 3                  ┆ 0                  ┆ 2                  │\n",
       "│ otiniel      ┆ 50                 ┆ 2                  ┆ 873                ┆ 1                  │\n",
       "│ binjalerne   ┆ 1                  ┆ 0                  ┆ 0                  ┆ 0                  │\n",
       "│ vasikiri     ┆ 0                  ┆ 1                  ┆ 4                  ┆ 0                  │\n",
       "│ …            ┆ …                  ┆ …                  ┆ …                  ┆ …                  │\n",
       "│ deasoi       ┆ 1                  ┆ 0                  ┆ 0                  ┆ 0                  │\n",
       "│ falafolo     ┆ 0                  ┆ 0                  ┆ 1                  ┆ 0                  │\n",
       "│ yode sarah   ┆ 0                  ┆ 0                  ┆ 0                  ┆ 1                  │\n",
       "│ dole         ┆ 0                  ┆ 0                  ┆ 0                  ┆ 1                  │\n",
       "│ zlanglousseu ┆                    ┆                    ┆                    ┆                    │\n",
       "│ tiendrolo    ┆ 0                  ┆ 0                  ┆ 1                  ┆ 0                  │\n",
       "└──────────────┴────────────────────┴────────────────────┴────────────────────┴────────────────────┘"
      ]
     },
     "execution_count": 62,
     "metadata": {},
     "output_type": "execute_result"
    }
   ],
   "source": [
    "stats"
   ]
  },
  {
   "cell_type": "code",
   "execution_count": 63,
   "metadata": {},
   "outputs": [],
   "source": [
    "prenom_unique_stats = (\n",
    "    df_exploded.filter(pl.col(\"prenoms\") == pl.col(\"prenom_explode\"))\n",
    "    .group_by(\"prenom_explode\")\n",
    "    .agg(prenom_unique=pl.len())\n",
    ")"
   ]
  },
  {
   "cell_type": "code",
   "execution_count": 64,
   "metadata": {},
   "outputs": [
    {
     "data": {
      "text/html": [
       "<div><style>\n",
       ".dataframe > thead > tr,\n",
       ".dataframe > tbody > tr {\n",
       "  text-align: right;\n",
       "  white-space: pre-wrap;\n",
       "}\n",
       "</style>\n",
       "<small>shape: (890_462, 2)</small><table border=\"1\" class=\"dataframe\"><thead><tr><th>prenom_explode</th><th>prenom_unique</th></tr><tr><td>str</td><td>u32</td></tr></thead><tbody><tr><td>&quot;wodjowontchai&quot;</td><td>1</td></tr><tr><td>&quot;gdrh&quot;</td><td>1</td></tr><tr><td>&quot;puire&quot;</td><td>2</td></tr><tr><td>&quot;abdoulachirou&quot;</td><td>1</td></tr><tr><td>&quot;ramirie&quot;</td><td>1</td></tr><tr><td>&hellip;</td><td>&hellip;</td></tr><tr><td>&quot;goulirant&quot;</td><td>1</td></tr><tr><td>&quot;direninan&quot;</td><td>1</td></tr><tr><td>&quot;chafobi&quot;</td><td>1</td></tr><tr><td>&quot;rosmat&quot;</td><td>1</td></tr><tr><td>&quot;alawal&quot;</td><td>1</td></tr></tbody></table></div>"
      ],
      "text/plain": [
       "shape: (890_462, 2)\n",
       "┌────────────────┬───────────────┐\n",
       "│ prenom_explode ┆ prenom_unique │\n",
       "│ ---            ┆ ---           │\n",
       "│ str            ┆ u32           │\n",
       "╞════════════════╪═══════════════╡\n",
       "│ wodjowontchai  ┆ 1             │\n",
       "│ gdrh           ┆ 1             │\n",
       "│ puire          ┆ 2             │\n",
       "│ abdoulachirou  ┆ 1             │\n",
       "│ ramirie        ┆ 1             │\n",
       "│ …              ┆ …             │\n",
       "│ goulirant      ┆ 1             │\n",
       "│ direninan      ┆ 1             │\n",
       "│ chafobi        ┆ 1             │\n",
       "│ rosmat         ┆ 1             │\n",
       "│ alawal         ┆ 1             │\n",
       "└────────────────┴───────────────┘"
      ]
     },
     "execution_count": 64,
     "metadata": {},
     "output_type": "execute_result"
    }
   ],
   "source": [
    "prenom_unique_stats"
   ]
  },
  {
   "cell_type": "code",
   "execution_count": 65,
   "metadata": {},
   "outputs": [],
   "source": [
    "final_stats = (\n",
    "    stats.join(\n",
    "        prenom_unique_stats,\n",
    "        left_on=\"nom\",\n",
    "        right_on=\"prenom_explode\",\n",
    "        how=\"left\"\n",
    "    )\n",
    "    .with_columns(\n",
    "        partie_prenom=pl.col(\"nombre_homme_prenom\") + pl.col(\"nombre_femme_prenom\"),\n",
    "        nom_famille=pl.col(\"nombre_homme_nom_famille\") + pl.col(\"nombre_femme_nom_famille\"),\n",
    "        prenom_unique=pl.coalesce(\"prenom_unique\", 0)\n",
    "    )\n",
    "    .select([\n",
    "        \"nom\",\n",
    "        \"partie_prenom\",\n",
    "        \"nom_famille\",\n",
    "        \"prenom_unique\",\n",
    "        \"nombre_homme_prenom\",\n",
    "        \"nombre_homme_nom_famille\",\n",
    "        \"nombre_femme_prenom\",\n",
    "        \"nombre_femme_nom_famille\"\n",
    "    ])\n",
    ")"
   ]
  },
  {
   "cell_type": "code",
   "execution_count": 66,
   "metadata": {},
   "outputs": [
    {
     "data": {
      "text/html": [
       "<div><style>\n",
       ".dataframe > thead > tr,\n",
       ".dataframe > tbody > tr {\n",
       "  text-align: right;\n",
       "  white-space: pre-wrap;\n",
       "}\n",
       "</style>\n",
       "<small>shape: (1_868_968, 8)</small><table border=\"1\" class=\"dataframe\"><thead><tr><th>nom</th><th>partie_prenom</th><th>nom_famille</th><th>prenom_unique</th><th>nombre_homme_prenom</th><th>nombre_homme_nom_famille</th><th>nombre_femme_prenom</th><th>nombre_femme_nom_famille</th></tr><tr><td>str</td><td>u32</td><td>u32</td><td>u32</td><td>u32</td><td>u32</td><td>u32</td><td>u32</td></tr></thead><tbody><tr><td>&quot;djenienba&quot;</td><td>5</td><td>1</td><td>4</td><td>0</td><td>0</td><td>5</td><td>1</td></tr><tr><td>&quot;saindrin&quot;</td><td>0</td><td>5</td><td>0</td><td>0</td><td>3</td><td>0</td><td>2</td></tr><tr><td>&quot;otiniel&quot;</td><td>923</td><td>3</td><td>218</td><td>873</td><td>2</td><td>50</td><td>1</td></tr><tr><td>&quot;binjalerne&quot;</td><td>1</td><td>0</td><td>0</td><td>0</td><td>0</td><td>1</td><td>0</td></tr><tr><td>&quot;vasikiri&quot;</td><td>4</td><td>1</td><td>4</td><td>4</td><td>1</td><td>0</td><td>0</td></tr><tr><td>&hellip;</td><td>&hellip;</td><td>&hellip;</td><td>&hellip;</td><td>&hellip;</td><td>&hellip;</td><td>&hellip;</td><td>&hellip;</td></tr><tr><td>&quot;deasoi&quot;</td><td>1</td><td>0</td><td>0</td><td>0</td><td>0</td><td>1</td><td>0</td></tr><tr><td>&quot;falafolo&quot;</td><td>1</td><td>0</td><td>1</td><td>1</td><td>0</td><td>0</td><td>0</td></tr><tr><td>&quot;yode sarah&quot;</td><td>0</td><td>1</td><td>0</td><td>0</td><td>0</td><td>0</td><td>1</td></tr><tr><td>&quot;dole zlanglousseu&quot;</td><td>0</td><td>1</td><td>0</td><td>0</td><td>0</td><td>0</td><td>1</td></tr><tr><td>&quot;tiendrolo&quot;</td><td>1</td><td>0</td><td>1</td><td>1</td><td>0</td><td>0</td><td>0</td></tr></tbody></table></div>"
      ],
      "text/plain": [
       "shape: (1_868_968, 8)\n",
       "┌────────────┬────────────┬────────────┬───────────┬───────────┬───────────┬───────────┬───────────┐\n",
       "│ nom        ┆ partie_pre ┆ nom_famill ┆ prenom_un ┆ nombre_ho ┆ nombre_ho ┆ nombre_fe ┆ nombre_fe │\n",
       "│ ---        ┆ nom        ┆ e          ┆ ique      ┆ mme_preno ┆ mme_nom_f ┆ mme_preno ┆ mme_nom_f │\n",
       "│ str        ┆ ---        ┆ ---        ┆ ---       ┆ m         ┆ amille    ┆ m         ┆ amille    │\n",
       "│            ┆ u32        ┆ u32        ┆ u32       ┆ ---       ┆ ---       ┆ ---       ┆ ---       │\n",
       "│            ┆            ┆            ┆           ┆ u32       ┆ u32       ┆ u32       ┆ u32       │\n",
       "╞════════════╪════════════╪════════════╪═══════════╪═══════════╪═══════════╪═══════════╪═══════════╡\n",
       "│ djenienba  ┆ 5          ┆ 1          ┆ 4         ┆ 0         ┆ 0         ┆ 5         ┆ 1         │\n",
       "│ saindrin   ┆ 0          ┆ 5          ┆ 0         ┆ 0         ┆ 3         ┆ 0         ┆ 2         │\n",
       "│ otiniel    ┆ 923        ┆ 3          ┆ 218       ┆ 873       ┆ 2         ┆ 50        ┆ 1         │\n",
       "│ binjalerne ┆ 1          ┆ 0          ┆ 0         ┆ 0         ┆ 0         ┆ 1         ┆ 0         │\n",
       "│ vasikiri   ┆ 4          ┆ 1          ┆ 4         ┆ 4         ┆ 1         ┆ 0         ┆ 0         │\n",
       "│ …          ┆ …          ┆ …          ┆ …         ┆ …         ┆ …         ┆ …         ┆ …         │\n",
       "│ deasoi     ┆ 1          ┆ 0          ┆ 0         ┆ 0         ┆ 0         ┆ 1         ┆ 0         │\n",
       "│ falafolo   ┆ 1          ┆ 0          ┆ 1         ┆ 1         ┆ 0         ┆ 0         ┆ 0         │\n",
       "│ yode sarah ┆ 0          ┆ 1          ┆ 0         ┆ 0         ┆ 0         ┆ 0         ┆ 1         │\n",
       "│ dole zlang ┆ 0          ┆ 1          ┆ 0         ┆ 0         ┆ 0         ┆ 0         ┆ 1         │\n",
       "│ lousseu    ┆            ┆            ┆           ┆           ┆           ┆           ┆           │\n",
       "│ tiendrolo  ┆ 1          ┆ 0          ┆ 1         ┆ 1         ┆ 0         ┆ 0         ┆ 0         │\n",
       "└────────────┴────────────┴────────────┴───────────┴───────────┴───────────┴───────────┴───────────┘"
      ]
     },
     "execution_count": 66,
     "metadata": {},
     "output_type": "execute_result"
    }
   ],
   "source": [
    "final_stats"
   ]
  },
  {
   "cell_type": "code",
   "execution_count": 67,
   "metadata": {},
   "outputs": [],
   "source": [
    "final_stats.write_parquet(\n",
    "     files_dir / \"nom_prenoms_overlay_vf_lower_trim.parquet\",\n",
    "       compression=\"zstd\"\n",
    ")"
   ]
  },
  {
   "cell_type": "code",
   "execution_count": null,
   "metadata": {},
   "outputs": [],
   "source": []
  }
 ],
 "metadata": {
  "kernelspec": {
   "display_name": "search_n",
   "language": "python",
   "name": "python3"
  },
  "language_info": {
   "codemirror_mode": {
    "name": "ipython",
    "version": 3
   },
   "file_extension": ".py",
   "mimetype": "text/x-python",
   "name": "python",
   "nbconvert_exporter": "python",
   "pygments_lexer": "ipython3",
   "version": "3.13.2"
  }
 },
 "nbformat": 4,
 "nbformat_minor": 2
}
