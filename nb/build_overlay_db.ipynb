{
 "cells": [
  {
   "cell_type": "code",
   "execution_count": 1,
   "metadata": {},
   "outputs": [],
   "source": [
    "import polars as pl\n",
    "from pathlib import Path\n",
    "import datetime"
   ]
  },
  {
   "cell_type": "code",
   "execution_count": 3,
   "metadata": {},
   "outputs": [],
   "source": [
    "files_dir = Path(\"../files\")  # Dossier au même niveau que le répertoire actuel"
   ]
  },
  {
   "cell_type": "code",
   "execution_count": 5,
   "metadata": {},
   "outputs": [
    {
     "name": "stderr",
     "output_type": "stream",
     "text": [
      "C:\\Users\\USER\\AppData\\Local\\Temp\\ipykernel_9960\\1450877043.py:2: DeprecationWarning: The argument `dtypes` for `read_csv` is deprecated. It has been renamed to `schema_overrides`.\n",
      "  df = pl.read_csv(\n"
     ]
    }
   ],
   "source": [
    "# Charger le CSV avec les bonnes colonnes\n",
    "df = pl.read_csv(\n",
    "    files_dir/ \"nom_prenoms_lower_trim.csv\",\n",
    "    separator=\",\",  # Ajuster selon le séparateur réel\n",
    "    new_columns=[\"nom\", \"prenoms\", \"sexe\", \"age\"],\n",
    "    dtypes={\n",
    "        \"nom\": pl.Utf8,\n",
    "        \"prenoms\": pl.Utf8,\n",
    "        \"sexe\": pl.Categorical,  # Optimisation mémoire\n",
    "        \"age\": pl.UInt8\n",
    "    }\n",
    ")"
   ]
  },
  {
   "cell_type": "code",
   "execution_count": 4,
   "metadata": {},
   "outputs": [
    {
     "data": {
      "text/html": [
       "<div><style>\n",
       ".dataframe > thead > tr,\n",
       ".dataframe > tbody > tr {\n",
       "  text-align: right;\n",
       "  white-space: pre-wrap;\n",
       "}\n",
       "</style>\n",
       "<small>shape: (27_168_543, 4)</small><table border=\"1\" class=\"dataframe\"><thead><tr><th>nom</th><th>prenoms</th><th>sexe</th><th>age</th></tr><tr><td>str</td><td>str</td><td>cat</td><td>u8</td></tr></thead><tbody><tr><td>&quot;lago&quot;</td><td>&quot;serge&quot;</td><td>&quot;Masculin&quot;</td><td>43</td></tr><tr><td>&quot;lago&quot;</td><td>&quot;renaud&quot;</td><td>&quot;Masculin&quot;</td><td>40</td></tr><tr><td>&quot;lago&quot;</td><td>&quot;therese&quot;</td><td>&quot;Féminin&quot;</td><td>68</td></tr><tr><td>&quot;bode&quot;</td><td>&quot;charleine&quot;</td><td>&quot;Féminin&quot;</td><td>25</td></tr><tr><td>&quot;dina&quot;</td><td>&quot;dina&quot;</td><td>&quot;Féminin&quot;</td><td>27</td></tr><tr><td>&hellip;</td><td>&hellip;</td><td>&hellip;</td><td>&hellip;</td></tr><tr><td>&quot;diallo&quot;</td><td>&quot;maiga&quot;</td><td>&quot;Masculin&quot;</td><td>46</td></tr><tr><td>&quot;diallo&quot;</td><td>&quot;amina&quot;</td><td>&quot;Féminin&quot;</td><td>28</td></tr><tr><td>&quot;diallo&quot;</td><td>&quot;ramata&quot;</td><td>&quot;Féminin&quot;</td><td>21</td></tr><tr><td>&quot;ouedrago&quot;</td><td>&quot;salif&quot;</td><td>&quot;Masculin&quot;</td><td>24</td></tr><tr><td>&quot;maiga&quot;</td><td>&quot;mariam&quot;</td><td>&quot;Féminin&quot;</td><td>22</td></tr></tbody></table></div>"
      ],
      "text/plain": [
       "shape: (27_168_543, 4)\n",
       "┌──────────┬───────────┬──────────┬─────┐\n",
       "│ nom      ┆ prenoms   ┆ sexe     ┆ age │\n",
       "│ ---      ┆ ---       ┆ ---      ┆ --- │\n",
       "│ str      ┆ str       ┆ cat      ┆ u8  │\n",
       "╞══════════╪═══════════╪══════════╪═════╡\n",
       "│ lago     ┆ serge     ┆ Masculin ┆ 43  │\n",
       "│ lago     ┆ renaud    ┆ Masculin ┆ 40  │\n",
       "│ lago     ┆ therese   ┆ Féminin  ┆ 68  │\n",
       "│ bode     ┆ charleine ┆ Féminin  ┆ 25  │\n",
       "│ dina     ┆ dina      ┆ Féminin  ┆ 27  │\n",
       "│ …        ┆ …         ┆ …        ┆ …   │\n",
       "│ diallo   ┆ maiga     ┆ Masculin ┆ 46  │\n",
       "│ diallo   ┆ amina     ┆ Féminin  ┆ 28  │\n",
       "│ diallo   ┆ ramata    ┆ Féminin  ┆ 21  │\n",
       "│ ouedrago ┆ salif     ┆ Masculin ┆ 24  │\n",
       "│ maiga    ┆ mariam    ┆ Féminin  ┆ 22  │\n",
       "└──────────┴───────────┴──────────┴─────┘"
      ]
     },
     "execution_count": 4,
     "metadata": {},
     "output_type": "execute_result"
    }
   ],
   "source": [
    "df"
   ]
  },
  {
   "cell_type": "code",
   "execution_count": 5,
   "metadata": {},
   "outputs": [],
   "source": [
    "# 2. Calculer l'année de naissance (ex: 2023 - age)\n",
    "current_year = 2021\n",
    "df = df.with_columns(\n",
    "    annee_naissance = current_year - pl.col(\"age\")\n",
    ")"
   ]
  },
  {
   "cell_type": "code",
   "execution_count": 6,
   "metadata": {},
   "outputs": [
    {
     "data": {
      "text/html": [
       "<div><style>\n",
       ".dataframe > thead > tr,\n",
       ".dataframe > tbody > tr {\n",
       "  text-align: right;\n",
       "  white-space: pre-wrap;\n",
       "}\n",
       "</style>\n",
       "<small>shape: (27_168_543, 5)</small><table border=\"1\" class=\"dataframe\"><thead><tr><th>nom</th><th>prenoms</th><th>sexe</th><th>age</th><th>annee_naissance</th></tr><tr><td>str</td><td>str</td><td>cat</td><td>u8</td><td>u16</td></tr></thead><tbody><tr><td>&quot;lago&quot;</td><td>&quot;serge&quot;</td><td>&quot;Masculin&quot;</td><td>43</td><td>1978</td></tr><tr><td>&quot;lago&quot;</td><td>&quot;renaud&quot;</td><td>&quot;Masculin&quot;</td><td>40</td><td>1981</td></tr><tr><td>&quot;lago&quot;</td><td>&quot;therese&quot;</td><td>&quot;Féminin&quot;</td><td>68</td><td>1953</td></tr><tr><td>&quot;bode&quot;</td><td>&quot;charleine&quot;</td><td>&quot;Féminin&quot;</td><td>25</td><td>1996</td></tr><tr><td>&quot;dina&quot;</td><td>&quot;dina&quot;</td><td>&quot;Féminin&quot;</td><td>27</td><td>1994</td></tr><tr><td>&hellip;</td><td>&hellip;</td><td>&hellip;</td><td>&hellip;</td><td>&hellip;</td></tr><tr><td>&quot;diallo&quot;</td><td>&quot;maiga&quot;</td><td>&quot;Masculin&quot;</td><td>46</td><td>1975</td></tr><tr><td>&quot;diallo&quot;</td><td>&quot;amina&quot;</td><td>&quot;Féminin&quot;</td><td>28</td><td>1993</td></tr><tr><td>&quot;diallo&quot;</td><td>&quot;ramata&quot;</td><td>&quot;Féminin&quot;</td><td>21</td><td>2000</td></tr><tr><td>&quot;ouedrago&quot;</td><td>&quot;salif&quot;</td><td>&quot;Masculin&quot;</td><td>24</td><td>1997</td></tr><tr><td>&quot;maiga&quot;</td><td>&quot;mariam&quot;</td><td>&quot;Féminin&quot;</td><td>22</td><td>1999</td></tr></tbody></table></div>"
      ],
      "text/plain": [
       "shape: (27_168_543, 5)\n",
       "┌──────────┬───────────┬──────────┬─────┬─────────────────┐\n",
       "│ nom      ┆ prenoms   ┆ sexe     ┆ age ┆ annee_naissance │\n",
       "│ ---      ┆ ---       ┆ ---      ┆ --- ┆ ---             │\n",
       "│ str      ┆ str       ┆ cat      ┆ u8  ┆ u16             │\n",
       "╞══════════╪═══════════╪══════════╪═════╪═════════════════╡\n",
       "│ lago     ┆ serge     ┆ Masculin ┆ 43  ┆ 1978            │\n",
       "│ lago     ┆ renaud    ┆ Masculin ┆ 40  ┆ 1981            │\n",
       "│ lago     ┆ therese   ┆ Féminin  ┆ 68  ┆ 1953            │\n",
       "│ bode     ┆ charleine ┆ Féminin  ┆ 25  ┆ 1996            │\n",
       "│ dina     ┆ dina      ┆ Féminin  ┆ 27  ┆ 1994            │\n",
       "│ …        ┆ …         ┆ …        ┆ …   ┆ …               │\n",
       "│ diallo   ┆ maiga     ┆ Masculin ┆ 46  ┆ 1975            │\n",
       "│ diallo   ┆ amina     ┆ Féminin  ┆ 28  ┆ 1993            │\n",
       "│ diallo   ┆ ramata    ┆ Féminin  ┆ 21  ┆ 2000            │\n",
       "│ ouedrago ┆ salif     ┆ Masculin ┆ 24  ┆ 1997            │\n",
       "│ maiga    ┆ mariam    ┆ Féminin  ┆ 22  ┆ 1999            │\n",
       "└──────────┴───────────┴──────────┴─────┴─────────────────┘"
      ]
     },
     "execution_count": 6,
     "metadata": {},
     "output_type": "execute_result"
    }
   ],
   "source": [
    "df"
   ]
  },
  {
   "cell_type": "code",
   "execution_count": 7,
   "metadata": {},
   "outputs": [],
   "source": [
    "df_exploded = df.with_columns(\n",
    "    pl.col(\"prenoms\").str.split(\" \").alias(\"prenoms_split\")\n",
    ").explode(\"prenoms_split\").rename({\"prenoms_split\": \"prenom_explode\"})"
   ]
  },
  {
   "cell_type": "code",
   "execution_count": 8,
   "metadata": {},
   "outputs": [
    {
     "data": {
      "text/html": [
       "<div><style>\n",
       ".dataframe > thead > tr,\n",
       ".dataframe > tbody > tr {\n",
       "  text-align: right;\n",
       "  white-space: pre-wrap;\n",
       "}\n",
       "</style>\n",
       "<small>shape: (37_488_637, 6)</small><table border=\"1\" class=\"dataframe\"><thead><tr><th>nom</th><th>prenoms</th><th>sexe</th><th>age</th><th>annee_naissance</th><th>prenom_explode</th></tr><tr><td>str</td><td>str</td><td>cat</td><td>u8</td><td>u16</td><td>str</td></tr></thead><tbody><tr><td>&quot;lago&quot;</td><td>&quot;serge&quot;</td><td>&quot;Masculin&quot;</td><td>43</td><td>1978</td><td>&quot;serge&quot;</td></tr><tr><td>&quot;lago&quot;</td><td>&quot;renaud&quot;</td><td>&quot;Masculin&quot;</td><td>40</td><td>1981</td><td>&quot;renaud&quot;</td></tr><tr><td>&quot;lago&quot;</td><td>&quot;therese&quot;</td><td>&quot;Féminin&quot;</td><td>68</td><td>1953</td><td>&quot;therese&quot;</td></tr><tr><td>&quot;bode&quot;</td><td>&quot;charleine&quot;</td><td>&quot;Féminin&quot;</td><td>25</td><td>1996</td><td>&quot;charleine&quot;</td></tr><tr><td>&quot;dina&quot;</td><td>&quot;dina&quot;</td><td>&quot;Féminin&quot;</td><td>27</td><td>1994</td><td>&quot;dina&quot;</td></tr><tr><td>&hellip;</td><td>&hellip;</td><td>&hellip;</td><td>&hellip;</td><td>&hellip;</td><td>&hellip;</td></tr><tr><td>&quot;diallo&quot;</td><td>&quot;maiga&quot;</td><td>&quot;Masculin&quot;</td><td>46</td><td>1975</td><td>&quot;maiga&quot;</td></tr><tr><td>&quot;diallo&quot;</td><td>&quot;amina&quot;</td><td>&quot;Féminin&quot;</td><td>28</td><td>1993</td><td>&quot;amina&quot;</td></tr><tr><td>&quot;diallo&quot;</td><td>&quot;ramata&quot;</td><td>&quot;Féminin&quot;</td><td>21</td><td>2000</td><td>&quot;ramata&quot;</td></tr><tr><td>&quot;ouedrago&quot;</td><td>&quot;salif&quot;</td><td>&quot;Masculin&quot;</td><td>24</td><td>1997</td><td>&quot;salif&quot;</td></tr><tr><td>&quot;maiga&quot;</td><td>&quot;mariam&quot;</td><td>&quot;Féminin&quot;</td><td>22</td><td>1999</td><td>&quot;mariam&quot;</td></tr></tbody></table></div>"
      ],
      "text/plain": [
       "shape: (37_488_637, 6)\n",
       "┌──────────┬───────────┬──────────┬─────┬─────────────────┬────────────────┐\n",
       "│ nom      ┆ prenoms   ┆ sexe     ┆ age ┆ annee_naissance ┆ prenom_explode │\n",
       "│ ---      ┆ ---       ┆ ---      ┆ --- ┆ ---             ┆ ---            │\n",
       "│ str      ┆ str       ┆ cat      ┆ u8  ┆ u16             ┆ str            │\n",
       "╞══════════╪═══════════╪══════════╪═════╪═════════════════╪════════════════╡\n",
       "│ lago     ┆ serge     ┆ Masculin ┆ 43  ┆ 1978            ┆ serge          │\n",
       "│ lago     ┆ renaud    ┆ Masculin ┆ 40  ┆ 1981            ┆ renaud         │\n",
       "│ lago     ┆ therese   ┆ Féminin  ┆ 68  ┆ 1953            ┆ therese        │\n",
       "│ bode     ┆ charleine ┆ Féminin  ┆ 25  ┆ 1996            ┆ charleine      │\n",
       "│ dina     ┆ dina      ┆ Féminin  ┆ 27  ┆ 1994            ┆ dina           │\n",
       "│ …        ┆ …         ┆ …        ┆ …   ┆ …               ┆ …              │\n",
       "│ diallo   ┆ maiga     ┆ Masculin ┆ 46  ┆ 1975            ┆ maiga          │\n",
       "│ diallo   ┆ amina     ┆ Féminin  ┆ 28  ┆ 1993            ┆ amina          │\n",
       "│ diallo   ┆ ramata    ┆ Féminin  ┆ 21  ┆ 2000            ┆ ramata         │\n",
       "│ ouedrago ┆ salif     ┆ Masculin ┆ 24  ┆ 1997            ┆ salif          │\n",
       "│ maiga    ┆ mariam    ┆ Féminin  ┆ 22  ┆ 1999            ┆ mariam         │\n",
       "└──────────┴───────────┴──────────┴─────┴─────────────────┴────────────────┘"
      ]
     },
     "execution_count": 8,
     "metadata": {},
     "output_type": "execute_result"
    }
   ],
   "source": [
    "df_exploded"
   ]
  },
  {
   "cell_type": "code",
   "execution_count": 9,
   "metadata": {},
   "outputs": [
    {
     "name": "stderr",
     "output_type": "stream",
     "text": [
      "C:\\Users\\USER\\AppData\\Local\\Temp\\ipykernel_22884\\2852160622.py:5: DeprecationWarning: `pl.count()` is deprecated. Please use `pl.len()` instead.\n",
      "  pl.count().alias(\"count\")\n",
      "C:\\Users\\USER\\AppData\\Local\\Temp\\ipykernel_22884\\2852160622.py:6: DeprecationWarning: The argument `columns` for `DataFrame.pivot` is deprecated. It has been renamed to `on`.\n",
      "  ).pivot(\n"
     ]
    }
   ],
   "source": [
    "# Calcul des occurrences annuelles\n",
    "yearly_stats = df_exploded.group_by(\n",
    "    \"prenom_explode\", \"annee_naissance\"\n",
    ").agg(\n",
    "    pl.count().alias(\"count\")\n",
    ").pivot(\n",
    "    values=\"count\",\n",
    "    index=\"prenom_explode\",\n",
    "    columns=\"annee_naissance\",\n",
    "    aggregate_function=\"sum\"\n",
    ").fill_null(0)\n",
    "\n",
    "# Renommer les colonnes d'année\n",
    "year_columns = [str(year) for year in range(1886, 2022)]\n",
    "yearly_stats = yearly_stats.rename(\n",
    "    {str(year): f\"annee_{year}\" for year in range(1886, 2022)}\n",
    ")\n"
   ]
  },
  {
   "cell_type": "code",
   "execution_count": 10,
   "metadata": {},
   "outputs": [],
   "source": [
    "yearly_stats_sorted = yearly_stats.select(sorted(yearly_stats.columns))"
   ]
  },
  {
   "cell_type": "code",
   "execution_count": 11,
   "metadata": {},
   "outputs": [
    {
     "data": {
      "text/html": [
       "<div><style>\n",
       ".dataframe > thead > tr,\n",
       ".dataframe > tbody > tr {\n",
       "  text-align: right;\n",
       "  white-space: pre-wrap;\n",
       "}\n",
       "</style>\n",
       "<small>shape: (1_351_302, 137)</small><table border=\"1\" class=\"dataframe\"><thead><tr><th>annee_1886</th><th>annee_1887</th><th>annee_1888</th><th>annee_1889</th><th>annee_1890</th><th>annee_1891</th><th>annee_1892</th><th>annee_1893</th><th>annee_1894</th><th>annee_1895</th><th>annee_1896</th><th>annee_1897</th><th>annee_1898</th><th>annee_1899</th><th>annee_1900</th><th>annee_1901</th><th>annee_1902</th><th>annee_1903</th><th>annee_1904</th><th>annee_1905</th><th>annee_1906</th><th>annee_1907</th><th>annee_1908</th><th>annee_1909</th><th>annee_1910</th><th>annee_1911</th><th>annee_1912</th><th>annee_1913</th><th>annee_1914</th><th>annee_1915</th><th>annee_1916</th><th>annee_1917</th><th>annee_1918</th><th>annee_1919</th><th>annee_1920</th><th>annee_1921</th><th>annee_1922</th><th>&hellip;</th><th>annee_1986</th><th>annee_1987</th><th>annee_1988</th><th>annee_1989</th><th>annee_1990</th><th>annee_1991</th><th>annee_1992</th><th>annee_1993</th><th>annee_1994</th><th>annee_1995</th><th>annee_1996</th><th>annee_1997</th><th>annee_1998</th><th>annee_1999</th><th>annee_2000</th><th>annee_2001</th><th>annee_2002</th><th>annee_2003</th><th>annee_2004</th><th>annee_2005</th><th>annee_2006</th><th>annee_2007</th><th>annee_2008</th><th>annee_2009</th><th>annee_2010</th><th>annee_2011</th><th>annee_2012</th><th>annee_2013</th><th>annee_2014</th><th>annee_2015</th><th>annee_2016</th><th>annee_2017</th><th>annee_2018</th><th>annee_2019</th><th>annee_2020</th><th>annee_2021</th><th>prenom_explode</th></tr><tr><td>u32</td><td>u32</td><td>u32</td><td>u32</td><td>u32</td><td>u32</td><td>u32</td><td>u32</td><td>u32</td><td>u32</td><td>u32</td><td>u32</td><td>u32</td><td>u32</td><td>u32</td><td>u32</td><td>u32</td><td>u32</td><td>u32</td><td>u32</td><td>u32</td><td>u32</td><td>u32</td><td>u32</td><td>u32</td><td>u32</td><td>u32</td><td>u32</td><td>u32</td><td>u32</td><td>u32</td><td>u32</td><td>u32</td><td>u32</td><td>u32</td><td>u32</td><td>u32</td><td>&hellip;</td><td>u32</td><td>u32</td><td>u32</td><td>u32</td><td>u32</td><td>u32</td><td>u32</td><td>u32</td><td>u32</td><td>u32</td><td>u32</td><td>u32</td><td>u32</td><td>u32</td><td>u32</td><td>u32</td><td>u32</td><td>u32</td><td>u32</td><td>u32</td><td>u32</td><td>u32</td><td>u32</td><td>u32</td><td>u32</td><td>u32</td><td>u32</td><td>u32</td><td>u32</td><td>u32</td><td>u32</td><td>u32</td><td>u32</td><td>u32</td><td>u32</td><td>u32</td><td>str</td></tr></thead><tbody><tr><td>0</td><td>0</td><td>0</td><td>0</td><td>0</td><td>0</td><td>0</td><td>0</td><td>0</td><td>0</td><td>0</td><td>0</td><td>0</td><td>0</td><td>0</td><td>0</td><td>0</td><td>0</td><td>0</td><td>0</td><td>0</td><td>0</td><td>0</td><td>0</td><td>0</td><td>0</td><td>0</td><td>0</td><td>0</td><td>0</td><td>0</td><td>0</td><td>0</td><td>0</td><td>0</td><td>0</td><td>0</td><td>&hellip;</td><td>2</td><td>1</td><td>1</td><td>3</td><td>1</td><td>0</td><td>1</td><td>0</td><td>1</td><td>0</td><td>1</td><td>2</td><td>1</td><td>2</td><td>1</td><td>4</td><td>1</td><td>0</td><td>0</td><td>1</td><td>2</td><td>1</td><td>3</td><td>3</td><td>1</td><td>1</td><td>1</td><td>1</td><td>1</td><td>1</td><td>0</td><td>0</td><td>2</td><td>0</td><td>2</td><td>1</td><td>&quot;zirimba&quot;</td></tr><tr><td>0</td><td>0</td><td>0</td><td>0</td><td>0</td><td>0</td><td>0</td><td>0</td><td>0</td><td>0</td><td>0</td><td>0</td><td>0</td><td>0</td><td>0</td><td>0</td><td>0</td><td>0</td><td>0</td><td>0</td><td>0</td><td>0</td><td>0</td><td>0</td><td>0</td><td>0</td><td>0</td><td>0</td><td>0</td><td>0</td><td>0</td><td>0</td><td>0</td><td>0</td><td>0</td><td>0</td><td>0</td><td>&hellip;</td><td>1</td><td>0</td><td>1</td><td>1</td><td>2</td><td>2</td><td>1</td><td>0</td><td>0</td><td>0</td><td>0</td><td>0</td><td>2</td><td>0</td><td>1</td><td>1</td><td>1</td><td>0</td><td>4</td><td>0</td><td>0</td><td>0</td><td>0</td><td>0</td><td>0</td><td>0</td><td>0</td><td>0</td><td>2</td><td>1</td><td>1</td><td>2</td><td>1</td><td>0</td><td>0</td><td>1</td><td>&quot;n&#x27;gonan&quot;</td></tr><tr><td>0</td><td>0</td><td>0</td><td>0</td><td>0</td><td>0</td><td>0</td><td>0</td><td>0</td><td>0</td><td>0</td><td>0</td><td>0</td><td>0</td><td>0</td><td>0</td><td>0</td><td>0</td><td>0</td><td>0</td><td>0</td><td>0</td><td>0</td><td>0</td><td>0</td><td>0</td><td>0</td><td>0</td><td>0</td><td>0</td><td>0</td><td>0</td><td>0</td><td>0</td><td>0</td><td>0</td><td>0</td><td>&hellip;</td><td>0</td><td>0</td><td>0</td><td>0</td><td>0</td><td>0</td><td>0</td><td>0</td><td>0</td><td>0</td><td>0</td><td>0</td><td>0</td><td>1</td><td>0</td><td>0</td><td>0</td><td>0</td><td>0</td><td>0</td><td>0</td><td>0</td><td>1</td><td>0</td><td>0</td><td>0</td><td>0</td><td>0</td><td>0</td><td>0</td><td>0</td><td>0</td><td>0</td><td>0</td><td>0</td><td>0</td><td>&quot;djemsse&quot;</td></tr><tr><td>0</td><td>0</td><td>0</td><td>0</td><td>0</td><td>0</td><td>0</td><td>0</td><td>0</td><td>0</td><td>0</td><td>0</td><td>0</td><td>0</td><td>0</td><td>0</td><td>0</td><td>0</td><td>0</td><td>0</td><td>0</td><td>0</td><td>0</td><td>0</td><td>0</td><td>0</td><td>0</td><td>0</td><td>0</td><td>0</td><td>0</td><td>0</td><td>0</td><td>0</td><td>0</td><td>0</td><td>0</td><td>&hellip;</td><td>0</td><td>0</td><td>0</td><td>0</td><td>0</td><td>0</td><td>0</td><td>0</td><td>0</td><td>0</td><td>0</td><td>0</td><td>1</td><td>0</td><td>0</td><td>0</td><td>0</td><td>0</td><td>0</td><td>0</td><td>0</td><td>0</td><td>0</td><td>0</td><td>0</td><td>0</td><td>0</td><td>0</td><td>0</td><td>0</td><td>0</td><td>0</td><td>0</td><td>1</td><td>0</td><td>0</td><td>&quot;marie-daniele&quot;</td></tr><tr><td>0</td><td>0</td><td>0</td><td>0</td><td>0</td><td>0</td><td>0</td><td>0</td><td>0</td><td>0</td><td>1</td><td>0</td><td>0</td><td>0</td><td>0</td><td>0</td><td>0</td><td>0</td><td>0</td><td>0</td><td>0</td><td>0</td><td>0</td><td>0</td><td>1</td><td>2</td><td>0</td><td>0</td><td>0</td><td>0</td><td>1</td><td>0</td><td>0</td><td>0</td><td>2</td><td>1</td><td>0</td><td>&hellip;</td><td>198</td><td>173</td><td>156</td><td>198</td><td>188</td><td>261</td><td>191</td><td>219</td><td>170</td><td>216</td><td>237</td><td>211</td><td>224</td><td>247</td><td>249</td><td>269</td><td>258</td><td>286</td><td>314</td><td>315</td><td>311</td><td>274</td><td>354</td><td>372</td><td>314</td><td>347</td><td>288</td><td>351</td><td>336</td><td>340</td><td>365</td><td>331</td><td>369</td><td>296</td><td>268</td><td>250</td><td>&quot;karamoko&quot;</td></tr><tr><td>&hellip;</td><td>&hellip;</td><td>&hellip;</td><td>&hellip;</td><td>&hellip;</td><td>&hellip;</td><td>&hellip;</td><td>&hellip;</td><td>&hellip;</td><td>&hellip;</td><td>&hellip;</td><td>&hellip;</td><td>&hellip;</td><td>&hellip;</td><td>&hellip;</td><td>&hellip;</td><td>&hellip;</td><td>&hellip;</td><td>&hellip;</td><td>&hellip;</td><td>&hellip;</td><td>&hellip;</td><td>&hellip;</td><td>&hellip;</td><td>&hellip;</td><td>&hellip;</td><td>&hellip;</td><td>&hellip;</td><td>&hellip;</td><td>&hellip;</td><td>&hellip;</td><td>&hellip;</td><td>&hellip;</td><td>&hellip;</td><td>&hellip;</td><td>&hellip;</td><td>&hellip;</td><td>&hellip;</td><td>&hellip;</td><td>&hellip;</td><td>&hellip;</td><td>&hellip;</td><td>&hellip;</td><td>&hellip;</td><td>&hellip;</td><td>&hellip;</td><td>&hellip;</td><td>&hellip;</td><td>&hellip;</td><td>&hellip;</td><td>&hellip;</td><td>&hellip;</td><td>&hellip;</td><td>&hellip;</td><td>&hellip;</td><td>&hellip;</td><td>&hellip;</td><td>&hellip;</td><td>&hellip;</td><td>&hellip;</td><td>&hellip;</td><td>&hellip;</td><td>&hellip;</td><td>&hellip;</td><td>&hellip;</td><td>&hellip;</td><td>&hellip;</td><td>&hellip;</td><td>&hellip;</td><td>&hellip;</td><td>&hellip;</td><td>&hellip;</td><td>&hellip;</td><td>&hellip;</td><td>&hellip;</td></tr><tr><td>0</td><td>0</td><td>0</td><td>0</td><td>0</td><td>0</td><td>0</td><td>0</td><td>0</td><td>0</td><td>0</td><td>0</td><td>0</td><td>0</td><td>0</td><td>0</td><td>0</td><td>0</td><td>0</td><td>0</td><td>0</td><td>0</td><td>0</td><td>0</td><td>0</td><td>0</td><td>0</td><td>0</td><td>0</td><td>0</td><td>0</td><td>0</td><td>0</td><td>0</td><td>0</td><td>0</td><td>0</td><td>&hellip;</td><td>0</td><td>0</td><td>0</td><td>0</td><td>0</td><td>0</td><td>0</td><td>0</td><td>0</td><td>0</td><td>0</td><td>0</td><td>0</td><td>0</td><td>0</td><td>0</td><td>0</td><td>0</td><td>0</td><td>0</td><td>0</td><td>0</td><td>0</td><td>0</td><td>0</td><td>0</td><td>0</td><td>0</td><td>0</td><td>0</td><td>0</td><td>0</td><td>0</td><td>0</td><td>0</td><td>0</td><td>&quot;yataga&quot;</td></tr><tr><td>0</td><td>0</td><td>0</td><td>0</td><td>0</td><td>0</td><td>0</td><td>0</td><td>0</td><td>0</td><td>0</td><td>0</td><td>0</td><td>0</td><td>0</td><td>0</td><td>0</td><td>0</td><td>0</td><td>0</td><td>0</td><td>0</td><td>0</td><td>0</td><td>0</td><td>0</td><td>0</td><td>0</td><td>0</td><td>0</td><td>0</td><td>0</td><td>0</td><td>0</td><td>0</td><td>0</td><td>0</td><td>&hellip;</td><td>0</td><td>0</td><td>0</td><td>0</td><td>0</td><td>0</td><td>0</td><td>0</td><td>0</td><td>0</td><td>0</td><td>0</td><td>0</td><td>0</td><td>0</td><td>0</td><td>0</td><td>0</td><td>0</td><td>0</td><td>0</td><td>0</td><td>0</td><td>0</td><td>0</td><td>0</td><td>0</td><td>0</td><td>1</td><td>0</td><td>0</td><td>0</td><td>0</td><td>0</td><td>0</td><td>0</td><td>&quot;zeiza&quot;</td></tr><tr><td>0</td><td>0</td><td>0</td><td>0</td><td>0</td><td>0</td><td>0</td><td>0</td><td>0</td><td>0</td><td>0</td><td>0</td><td>0</td><td>0</td><td>0</td><td>0</td><td>0</td><td>0</td><td>0</td><td>0</td><td>0</td><td>0</td><td>0</td><td>0</td><td>0</td><td>0</td><td>0</td><td>0</td><td>0</td><td>0</td><td>0</td><td>0</td><td>0</td><td>0</td><td>0</td><td>0</td><td>0</td><td>&hellip;</td><td>0</td><td>0</td><td>0</td><td>0</td><td>0</td><td>0</td><td>0</td><td>0</td><td>0</td><td>0</td><td>0</td><td>0</td><td>0</td><td>0</td><td>0</td><td>0</td><td>0</td><td>0</td><td>0</td><td>0</td><td>0</td><td>0</td><td>0</td><td>0</td><td>0</td><td>0</td><td>0</td><td>0</td><td>1</td><td>0</td><td>0</td><td>0</td><td>0</td><td>0</td><td>0</td><td>0</td><td>&quot;illustte&quot;</td></tr><tr><td>0</td><td>0</td><td>0</td><td>0</td><td>0</td><td>0</td><td>0</td><td>0</td><td>0</td><td>0</td><td>0</td><td>0</td><td>0</td><td>0</td><td>0</td><td>0</td><td>0</td><td>0</td><td>0</td><td>0</td><td>0</td><td>0</td><td>0</td><td>0</td><td>0</td><td>0</td><td>0</td><td>0</td><td>0</td><td>0</td><td>0</td><td>0</td><td>0</td><td>0</td><td>0</td><td>0</td><td>0</td><td>&hellip;</td><td>0</td><td>0</td><td>0</td><td>0</td><td>0</td><td>0</td><td>0</td><td>0</td><td>0</td><td>0</td><td>0</td><td>0</td><td>0</td><td>0</td><td>0</td><td>0</td><td>0</td><td>0</td><td>0</td><td>0</td><td>0</td><td>0</td><td>0</td><td>0</td><td>0</td><td>0</td><td>0</td><td>0</td><td>0</td><td>0</td><td>0</td><td>0</td><td>0</td><td>0</td><td>1</td><td>0</td><td>&quot;tebaragua&quot;</td></tr><tr><td>0</td><td>0</td><td>0</td><td>0</td><td>0</td><td>0</td><td>0</td><td>0</td><td>0</td><td>0</td><td>0</td><td>0</td><td>0</td><td>0</td><td>0</td><td>0</td><td>0</td><td>0</td><td>0</td><td>0</td><td>0</td><td>0</td><td>0</td><td>0</td><td>0</td><td>0</td><td>0</td><td>0</td><td>0</td><td>0</td><td>0</td><td>0</td><td>0</td><td>0</td><td>0</td><td>0</td><td>0</td><td>&hellip;</td><td>0</td><td>0</td><td>0</td><td>0</td><td>0</td><td>0</td><td>0</td><td>0</td><td>0</td><td>0</td><td>0</td><td>0</td><td>0</td><td>0</td><td>0</td><td>0</td><td>0</td><td>0</td><td>0</td><td>0</td><td>0</td><td>0</td><td>0</td><td>0</td><td>0</td><td>1</td><td>0</td><td>0</td><td>0</td><td>0</td><td>0</td><td>0</td><td>0</td><td>0</td><td>0</td><td>0</td><td>&quot;lorainr&quot;</td></tr></tbody></table></div>"
      ],
      "text/plain": [
       "shape: (1_351_302, 137)\n",
       "┌───────────┬───────────┬───────────┬───────────┬───┬───────────┬───────────┬───────────┬──────────┐\n",
       "│ annee_188 ┆ annee_188 ┆ annee_188 ┆ annee_188 ┆ … ┆ annee_201 ┆ annee_202 ┆ annee_202 ┆ prenom_e │\n",
       "│ 6         ┆ 7         ┆ 8         ┆ 9         ┆   ┆ 9         ┆ 0         ┆ 1         ┆ xplode   │\n",
       "│ ---       ┆ ---       ┆ ---       ┆ ---       ┆   ┆ ---       ┆ ---       ┆ ---       ┆ ---      │\n",
       "│ u32       ┆ u32       ┆ u32       ┆ u32       ┆   ┆ u32       ┆ u32       ┆ u32       ┆ str      │\n",
       "╞═══════════╪═══════════╪═══════════╪═══════════╪═══╪═══════════╪═══════════╪═══════════╪══════════╡\n",
       "│ 0         ┆ 0         ┆ 0         ┆ 0         ┆ … ┆ 0         ┆ 2         ┆ 1         ┆ zirimba  │\n",
       "│ 0         ┆ 0         ┆ 0         ┆ 0         ┆ … ┆ 0         ┆ 0         ┆ 1         ┆ n'gonan  │\n",
       "│ 0         ┆ 0         ┆ 0         ┆ 0         ┆ … ┆ 0         ┆ 0         ┆ 0         ┆ djemsse  │\n",
       "│ 0         ┆ 0         ┆ 0         ┆ 0         ┆ … ┆ 1         ┆ 0         ┆ 0         ┆ marie-da │\n",
       "│           ┆           ┆           ┆           ┆   ┆           ┆           ┆           ┆ niele    │\n",
       "│ 0         ┆ 0         ┆ 0         ┆ 0         ┆ … ┆ 296       ┆ 268       ┆ 250       ┆ karamoko │\n",
       "│ …         ┆ …         ┆ …         ┆ …         ┆ … ┆ …         ┆ …         ┆ …         ┆ …        │\n",
       "│ 0         ┆ 0         ┆ 0         ┆ 0         ┆ … ┆ 0         ┆ 0         ┆ 0         ┆ yataga   │\n",
       "│ 0         ┆ 0         ┆ 0         ┆ 0         ┆ … ┆ 0         ┆ 0         ┆ 0         ┆ zeiza    │\n",
       "│ 0         ┆ 0         ┆ 0         ┆ 0         ┆ … ┆ 0         ┆ 0         ┆ 0         ┆ illustte │\n",
       "│ 0         ┆ 0         ┆ 0         ┆ 0         ┆ … ┆ 0         ┆ 1         ┆ 0         ┆ tebaragu │\n",
       "│           ┆           ┆           ┆           ┆   ┆           ┆           ┆           ┆ a        │\n",
       "│ 0         ┆ 0         ┆ 0         ┆ 0         ┆ … ┆ 0         ┆ 0         ┆ 0         ┆ lorainr  │\n",
       "└───────────┴───────────┴───────────┴───────────┴───┴───────────┴───────────┴───────────┴──────────┘"
      ]
     },
     "execution_count": 11,
     "metadata": {},
     "output_type": "execute_result"
    }
   ],
   "source": [
    "yearly_stats_sorted"
   ]
  },
  {
   "cell_type": "code",
   "execution_count": 12,
   "metadata": {},
   "outputs": [
    {
     "name": "stderr",
     "output_type": "stream",
     "text": [
      "C:\\Users\\USER\\AppData\\Local\\Temp\\ipykernel_18980\\2881166339.py:15: DeprecationWarning: The argument `columns` for `DataFrame.pivot` is deprecated. It has been renamed to `on`.\n",
      "  .pivot(\n"
     ]
    }
   ],
   "source": [
    "stats = (\n",
    "    pl.concat([\n",
    "        df_exploded.select(\n",
    "            pl.col(\"prenom_explode\").alias(\"nom\"), \n",
    "            \"sexe\"\n",
    "        ).with_columns(type=pl.lit(\"prenoms\")),\n",
    "        \n",
    "        df.select(\n",
    "            pl.col(\"nom\").alias(\"nom\"),\n",
    "            \"sexe\"\n",
    "        ).with_columns(type=pl.lit(\"famille\"))\n",
    "    ])\n",
    "    .group_by(\"nom\", \"sexe\", \"type\")\n",
    "    .agg(count=pl.len())\n",
    "    .pivot(\n",
    "        values=\"count\",\n",
    "        index=\"nom\",\n",
    "        columns=[\"sexe\", \"type\"],\n",
    "        aggregate_function=\"sum\"\n",
    "    )\n",
    "    .fill_null(0)\n",
    "    .rename({\n",
    "        '{\"Féminin\",\"famille\"}': \"nombre_femme_nom_famille\",\n",
    "        '{\"Féminin\",\"prenoms\"}': \"nombre_femme_prenom\",\n",
    "        '{\"Masculin\",\"famille\"}': \"nombre_homme_nom_famille\",\n",
    "        '{\"Masculin\",\"prenoms\"}': \"nombre_homme_prenom\"  # Correction orthographique\n",
    "    })\n",
    "    \n",
    ")\n"
   ]
  },
  {
   "cell_type": "code",
   "execution_count": 13,
   "metadata": {},
   "outputs": [
    {
     "data": {
      "text/html": [
       "<div><style>\n",
       ".dataframe > thead > tr,\n",
       ".dataframe > tbody > tr {\n",
       "  text-align: right;\n",
       "  white-space: pre-wrap;\n",
       "}\n",
       "</style>\n",
       "<small>shape: (1_868_968, 5)</small><table border=\"1\" class=\"dataframe\"><thead><tr><th>nom</th><th>nombre_femme_prenom</th><th>nombre_homme_nom_famille</th><th>nombre_homme_prenom</th><th>nombre_femme_nom_famille</th></tr><tr><td>str</td><td>u32</td><td>u32</td><td>u32</td><td>u32</td></tr></thead><tbody><tr><td>&quot;wamanisa&quot;</td><td>1</td><td>0</td><td>0</td><td>0</td></tr><tr><td>&quot;ayouwoh&quot;</td><td>0</td><td>1</td><td>0</td><td>0</td></tr><tr><td>&quot;niamekey&quot;</td><td>4</td><td>2</td><td>2</td><td>1</td></tr><tr><td>&quot;koffitohma&quot;</td><td>0</td><td>0</td><td>1</td><td>0</td></tr><tr><td>&quot;sanisssi&quot;</td><td>0</td><td>1</td><td>0</td><td>0</td></tr><tr><td>&hellip;</td><td>&hellip;</td><td>&hellip;</td><td>&hellip;</td><td>&hellip;</td></tr><tr><td>&quot;obrel&quot;</td><td>0</td><td>0</td><td>1</td><td>0</td></tr><tr><td>&quot;grodjie&quot;</td><td>1</td><td>0</td><td>0</td><td>0</td></tr><tr><td>&quot;wedraho&quot;</td><td>0</td><td>2</td><td>0</td><td>0</td></tr><tr><td>&quot;nonkoungou&quot;</td><td>0</td><td>0</td><td>0</td><td>1</td></tr><tr><td>&quot;koidiamou&quot;</td><td>0</td><td>2</td><td>0</td><td>0</td></tr></tbody></table></div>"
      ],
      "text/plain": [
       "shape: (1_868_968, 5)\n",
       "┌────────────┬─────────────────────┬─────────────────────┬────────────────────┬────────────────────┐\n",
       "│ nom        ┆ nombre_femme_prenom ┆ nombre_homme_nom_fa ┆ nombre_homme_preno ┆ nombre_femme_nom_f │\n",
       "│ ---        ┆ ---                 ┆ mille               ┆ m                  ┆ amille             │\n",
       "│ str        ┆ u32                 ┆ ---                 ┆ ---                ┆ ---                │\n",
       "│            ┆                     ┆ u32                 ┆ u32                ┆ u32                │\n",
       "╞════════════╪═════════════════════╪═════════════════════╪════════════════════╪════════════════════╡\n",
       "│ wamanisa   ┆ 1                   ┆ 0                   ┆ 0                  ┆ 0                  │\n",
       "│ ayouwoh    ┆ 0                   ┆ 1                   ┆ 0                  ┆ 0                  │\n",
       "│ niamekey   ┆ 4                   ┆ 2                   ┆ 2                  ┆ 1                  │\n",
       "│ koffitohma ┆ 0                   ┆ 0                   ┆ 1                  ┆ 0                  │\n",
       "│ sanisssi   ┆ 0                   ┆ 1                   ┆ 0                  ┆ 0                  │\n",
       "│ …          ┆ …                   ┆ …                   ┆ …                  ┆ …                  │\n",
       "│ obrel      ┆ 0                   ┆ 0                   ┆ 1                  ┆ 0                  │\n",
       "│ grodjie    ┆ 1                   ┆ 0                   ┆ 0                  ┆ 0                  │\n",
       "│ wedraho    ┆ 0                   ┆ 2                   ┆ 0                  ┆ 0                  │\n",
       "│ nonkoungou ┆ 0                   ┆ 0                   ┆ 0                  ┆ 1                  │\n",
       "│ koidiamou  ┆ 0                   ┆ 2                   ┆ 0                  ┆ 0                  │\n",
       "└────────────┴─────────────────────┴─────────────────────┴────────────────────┴────────────────────┘"
      ]
     },
     "execution_count": 13,
     "metadata": {},
     "output_type": "execute_result"
    }
   ],
   "source": [
    "stats"
   ]
  },
  {
   "cell_type": "code",
   "execution_count": 25,
   "metadata": {},
   "outputs": [],
   "source": [
    "prenom_unique_stats = (\n",
    "    df_exploded.filter(pl.col(\"prenoms\") == pl.col(\"prenom_explode\"))\n",
    "    .group_by(\"prenom_explode\")\n",
    "    .agg(prenom_unique=pl.len())\n",
    ")"
   ]
  },
  {
   "cell_type": "code",
   "execution_count": 26,
   "metadata": {},
   "outputs": [
    {
     "data": {
      "text/html": [
       "<div><style>\n",
       ".dataframe > thead > tr,\n",
       ".dataframe > tbody > tr {\n",
       "  text-align: right;\n",
       "  white-space: pre-wrap;\n",
       "}\n",
       "</style>\n",
       "<small>shape: (890_462, 2)</small><table border=\"1\" class=\"dataframe\"><thead><tr><th>prenom_explode</th><th>prenom_unique</th></tr><tr><td>str</td><td>u32</td></tr></thead><tbody><tr><td>&quot;keuleya&quot;</td><td>2</td></tr><tr><td>&quot;anaballe&quot;</td><td>1</td></tr><tr><td>&quot;sinimin&quot;</td><td>1</td></tr><tr><td>&quot;alsonce&quot;</td><td>1</td></tr><tr><td>&quot;sorel&quot;</td><td>47</td></tr><tr><td>&hellip;</td><td>&hellip;</td></tr><tr><td>&quot;koumannayougou&quot;</td><td>1</td></tr><tr><td>&quot;peinelle&quot;</td><td>1</td></tr><tr><td>&quot;tenenanko&quot;</td><td>1</td></tr><tr><td>&quot;yoryar&quot;</td><td>1</td></tr><tr><td>&quot;abdoulwahabe&quot;</td><td>20</td></tr></tbody></table></div>"
      ],
      "text/plain": [
       "shape: (890_462, 2)\n",
       "┌────────────────┬───────────────┐\n",
       "│ prenom_explode ┆ prenom_unique │\n",
       "│ ---            ┆ ---           │\n",
       "│ str            ┆ u32           │\n",
       "╞════════════════╪═══════════════╡\n",
       "│ keuleya        ┆ 2             │\n",
       "│ anaballe       ┆ 1             │\n",
       "│ sinimin        ┆ 1             │\n",
       "│ alsonce        ┆ 1             │\n",
       "│ sorel          ┆ 47            │\n",
       "│ …              ┆ …             │\n",
       "│ koumannayougou ┆ 1             │\n",
       "│ peinelle       ┆ 1             │\n",
       "│ tenenanko      ┆ 1             │\n",
       "│ yoryar         ┆ 1             │\n",
       "│ abdoulwahabe   ┆ 20            │\n",
       "└────────────────┴───────────────┘"
      ]
     },
     "execution_count": 26,
     "metadata": {},
     "output_type": "execute_result"
    }
   ],
   "source": [
    "prenom_unique_stats"
   ]
  },
  {
   "cell_type": "code",
   "execution_count": 27,
   "metadata": {},
   "outputs": [],
   "source": [
    "final_stats = (\n",
    "    stats.join(\n",
    "        prenom_unique_stats,\n",
    "        left_on=\"nom\",\n",
    "        right_on=\"prenom_explode\",\n",
    "        how=\"left\"\n",
    "    )\n",
    "    .with_columns(\n",
    "        partie_prenom=pl.col(\"nombre_homme_prenom\") + pl.col(\"nombre_femme_prenom\"),\n",
    "        nom_famille=pl.col(\"nombre_homme_nom_famille\") + pl.col(\"nombre_femme_nom_famille\"),\n",
    "        prenom_unique=pl.coalesce(\"prenom_unique\", 0)\n",
    "    )\n",
    "    .select([\n",
    "        \"nom\",\n",
    "        \"partie_prenom\",\n",
    "        \"nom_famille\",\n",
    "        \"prenom_unique\",\n",
    "        \"nombre_homme_prenom\",\n",
    "        \"nombre_homme_nom_famille\",\n",
    "        \"nombre_femme_prenom\",\n",
    "        \"nombre_femme_nom_famille\"\n",
    "    ])\n",
    ")"
   ]
  },
  {
   "cell_type": "code",
   "execution_count": null,
   "metadata": {},
   "outputs": [],
   "source": [
    "#Fusion avec les statistiques existantes\n",
    "final_stats = stats.join(\n",
    "    yearly_stats,\n",
    "    left_on=\"nom\",\n",
    "    right_on=\"prenom_explode\",\n",
    "    how=\"left\"\n",
    ").drop(\"prenom_explode\")\n",
    "\n",
    "# Réordonnancement des colonnes\n",
    "columns_order = (\n",
    "    [\"nom\", \"partie_prenom\", \"nom_famille\", \"prenom_unique\"] + \n",
    "    [f\"annee_{year}\" for year in range(1960, 2022)] +\n",
    "    [\"nombre_homme_prenom\", \"nombre_homme_nom_famille\", \n",
    "     \"nombre_femme_prenom\", \"nombre_femme_nom_famille\"]\n",
    ")\n",
    "\n",
    "final_stats = final_stats.select(columns_order)"
   ]
  },
  {
   "cell_type": "code",
   "execution_count": 28,
   "metadata": {},
   "outputs": [
    {
     "data": {
      "text/html": [
       "<div><style>\n",
       ".dataframe > thead > tr,\n",
       ".dataframe > tbody > tr {\n",
       "  text-align: right;\n",
       "  white-space: pre-wrap;\n",
       "}\n",
       "</style>\n",
       "<small>shape: (1_868_968, 8)</small><table border=\"1\" class=\"dataframe\"><thead><tr><th>nom</th><th>partie_prenom</th><th>nom_famille</th><th>prenom_unique</th><th>nombre_homme_prenom</th><th>nombre_homme_nom_famille</th><th>nombre_femme_prenom</th><th>nombre_femme_nom_famille</th></tr><tr><td>str</td><td>u32</td><td>u32</td><td>u32</td><td>u32</td><td>u32</td><td>u32</td><td>u32</td></tr></thead><tbody><tr><td>&quot;djeggrou&quot;</td><td>1</td><td>0</td><td>1</td><td>0</td><td>0</td><td>1</td><td>0</td></tr><tr><td>&quot;zoumara&quot;</td><td>12</td><td>32</td><td>12</td><td>11</td><td>17</td><td>1</td><td>15</td></tr><tr><td>&quot;faouziarouzi&quot;</td><td>1</td><td>0</td><td>1</td><td>0</td><td>0</td><td>1</td><td>0</td></tr><tr><td>&quot;frevrin&quot;</td><td>1</td><td>0</td><td>0</td><td>1</td><td>0</td><td>0</td><td>0</td></tr><tr><td>&quot;cadret&quot;</td><td>3</td><td>1</td><td>2</td><td>3</td><td>1</td><td>0</td><td>0</td></tr><tr><td>&hellip;</td><td>&hellip;</td><td>&hellip;</td><td>&hellip;</td><td>&hellip;</td><td>&hellip;</td><td>&hellip;</td><td>&hellip;</td></tr><tr><td>&quot;yoranatere&quot;</td><td>1</td><td>0</td><td>0</td><td>0</td><td>0</td><td>1</td><td>0</td></tr><tr><td>&quot;orlelle&quot;</td><td>1</td><td>0</td><td>0</td><td>0</td><td>0</td><td>1</td><td>0</td></tr><tr><td>&quot;sorre awa&quot;</td><td>0</td><td>1</td><td>0</td><td>0</td><td>0</td><td>0</td><td>1</td></tr><tr><td>&quot;garassouba&quot;</td><td>1</td><td>0</td><td>1</td><td>0</td><td>0</td><td>1</td><td>0</td></tr><tr><td>&quot;liverato denis&quot;</td><td>0</td><td>1</td><td>0</td><td>0</td><td>0</td><td>0</td><td>1</td></tr></tbody></table></div>"
      ],
      "text/plain": [
       "shape: (1_868_968, 8)\n",
       "┌────────────┬────────────┬────────────┬───────────┬───────────┬───────────┬───────────┬───────────┐\n",
       "│ nom        ┆ partie_pre ┆ nom_famill ┆ prenom_un ┆ nombre_ho ┆ nombre_ho ┆ nombre_fe ┆ nombre_fe │\n",
       "│ ---        ┆ nom        ┆ e          ┆ ique      ┆ mme_preno ┆ mme_nom_f ┆ mme_preno ┆ mme_nom_f │\n",
       "│ str        ┆ ---        ┆ ---        ┆ ---       ┆ m         ┆ amille    ┆ m         ┆ amille    │\n",
       "│            ┆ u32        ┆ u32        ┆ u32       ┆ ---       ┆ ---       ┆ ---       ┆ ---       │\n",
       "│            ┆            ┆            ┆           ┆ u32       ┆ u32       ┆ u32       ┆ u32       │\n",
       "╞════════════╪════════════╪════════════╪═══════════╪═══════════╪═══════════╪═══════════╪═══════════╡\n",
       "│ djeggrou   ┆ 1          ┆ 0          ┆ 1         ┆ 0         ┆ 0         ┆ 1         ┆ 0         │\n",
       "│ zoumara    ┆ 12         ┆ 32         ┆ 12        ┆ 11        ┆ 17        ┆ 1         ┆ 15        │\n",
       "│ faouziarou ┆ 1          ┆ 0          ┆ 1         ┆ 0         ┆ 0         ┆ 1         ┆ 0         │\n",
       "│ zi         ┆            ┆            ┆           ┆           ┆           ┆           ┆           │\n",
       "│ frevrin    ┆ 1          ┆ 0          ┆ 0         ┆ 1         ┆ 0         ┆ 0         ┆ 0         │\n",
       "│ cadret     ┆ 3          ┆ 1          ┆ 2         ┆ 3         ┆ 1         ┆ 0         ┆ 0         │\n",
       "│ …          ┆ …          ┆ …          ┆ …         ┆ …         ┆ …         ┆ …         ┆ …         │\n",
       "│ yoranatere ┆ 1          ┆ 0          ┆ 0         ┆ 0         ┆ 0         ┆ 1         ┆ 0         │\n",
       "│ orlelle    ┆ 1          ┆ 0          ┆ 0         ┆ 0         ┆ 0         ┆ 1         ┆ 0         │\n",
       "│ sorre awa  ┆ 0          ┆ 1          ┆ 0         ┆ 0         ┆ 0         ┆ 0         ┆ 1         │\n",
       "│ garassouba ┆ 1          ┆ 0          ┆ 1         ┆ 0         ┆ 0         ┆ 1         ┆ 0         │\n",
       "│ liverato   ┆ 0          ┆ 1          ┆ 0         ┆ 0         ┆ 0         ┆ 0         ┆ 1         │\n",
       "│ denis      ┆            ┆            ┆           ┆           ┆           ┆           ┆           │\n",
       "└────────────┴────────────┴────────────┴───────────┴───────────┴───────────┴───────────┴───────────┘"
      ]
     },
     "execution_count": 28,
     "metadata": {},
     "output_type": "execute_result"
    }
   ],
   "source": [
    "final_stats"
   ]
  },
  {
   "cell_type": "code",
   "execution_count": 67,
   "metadata": {},
   "outputs": [],
   "source": [
    "final_stats.write_parquet(\n",
    "     files_dir / \"nom_prenoms_overlay_vf_lower_trim.parquet\",\n",
    "       compression=\"zstd\"\n",
    ")"
   ]
  },
  {
   "cell_type": "code",
   "execution_count": null,
   "metadata": {},
   "outputs": [],
   "source": []
  }
 ],
 "metadata": {
  "kernelspec": {
   "display_name": "Python [conda env:search_n]",
   "language": "python",
   "name": "conda-env-search_n-py"
  },
  "language_info": {
   "codemirror_mode": {
    "name": "ipython",
    "version": 3
   },
   "file_extension": ".py",
   "mimetype": "text/x-python",
   "name": "python",
   "nbconvert_exporter": "python",
   "pygments_lexer": "ipython3",
   "version": "3.13.2"
  }
 },
 "nbformat": 4,
 "nbformat_minor": 4
}
