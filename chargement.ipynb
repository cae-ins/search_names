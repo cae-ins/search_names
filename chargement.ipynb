{
 "cells": [
  {
   "cell_type": "code",
   "execution_count": null,
   "metadata": {},
   "outputs": [],
   "source": [
    "import pandas as pd\n",
    "from elasticsearch import Elasticsearch, helpers\n",
    "import logging"
   ]
  },
  {
   "cell_type": "code",
   "execution_count": 8,
   "metadata": {},
   "outputs": [
    {
     "name": "stderr",
     "output_type": "stream",
     "text": [
      "INFO:elastic_transport.transport:HEAD http://192.168.1.230:30920/noms_prenoms [status:200 duration:0.032s]\n"
     ]
    }
   ],
   "source": [
    "\n",
    "logging.basicConfig(level=logging.INFO)\n",
    "\n",
    "es = Elasticsearch(\n",
    "    \"http://192.168.1.230:30920\",\n",
    "    verify_certs=False,\n",
    "    request_timeout=60,\n",
    "    retry_on_timeout=True\n",
    ")\n",
    "\n",
    "index_name = \"noms_prenoms\"\n",
    "\n",
    "df = pd.read_parquet(\"nom_prenoms_overlay_vf_lower_trim.parquet\")\n",
    "\n",
    "df = df.fillna(0)\n",
    "\n",
    "# On fait une séparation des données pour constituer un sous objet pour l'année\n",
    "def generate_docs(df):\n",
    "    for i, row in df.iterrows():\n",
    "        row_dict = row.to_dict()\n",
    "        freq = {k: v for k, v in row_dict.items() if k.startswith(\"annee_\")}\n",
    "        meta = {k: v for k, v in row_dict.items() if not k.startswith(\"annee_\")}\n",
    "        yield {\n",
    "            \"_index\": index_name,\n",
    "            \"_id\": i,\n",
    "            \"_source\": {\n",
    "                **meta,\n",
    "                \"frequences\": freq\n",
    "            }\n",
    "        }\n",
    "\n",
    "if not es.indices.exists(index=index_name):\n",
    "    # On construit dynamiquement le mapping pour le champ 'frequences'\n",
    "    freq_mapping = {\n",
    "        f\"annee_{year}\": {\"type\": \"float\"}\n",
    "        for year in range(1886, 2026)\n",
    "    }\n",
    "\n",
    "    es.indices.create(\n",
    "        index=index_name,\n",
    "        body={\n",
    "            \"settings\": {\n",
    "                \"number_of_shards\": 4,\n",
    "                \"number_of_replicas\": 1\n",
    "            },\n",
    "            \"mappings\": {\n",
    "                \"properties\": {\n",
    "                    \"nom\": {\"type\": \"keyword\"},\n",
    "                    \"partie_prenom\": {\"type\": \"integer\"},\n",
    "                    \"nom_famille\": {\"type\": \"integer\"},\n",
    "                    \"prenom_unique\": {\"type\": \"integer\"},\n",
    "                    \"nombre_homme_prenom\": {\"type\": \"integer\"},\n",
    "                    \"nombre_homme_nom_famille\": {\"type\": \"integer\"},\n",
    "                    \"nombre_femme_prenom\": {\"type\": \"integer\"},\n",
    "                    \"nombre_femme_nom_famille\": {\"type\": \"integer\"},\n",
    "                    \"frequences\": {\n",
    "                        \"type\": \"object\",\n",
    "                        \"properties\": freq_mapping\n",
    "                    }\n",
    "                }\n",
    "            }\n",
    "        }\n",
    "    )\n"
   ]
  },
  {
   "cell_type": "code",
   "execution_count": null,
   "metadata": {},
   "outputs": [],
   "source": [
    "\n",
    "# Insertion bulk avec gestion d'erreur des données qui pourraient manquées dans la base\n",
    "try:\n",
    "    success, errors = helpers.bulk(\n",
    "        es,\n",
    "        generate_docs(df),\n",
    "        stats_only=False,\n",
    "        raise_on_error=False\n",
    "    )\n",
    "\n",
    "    print(f\"{success} documents insérés avec succès dans '{index_name}'\")\n",
    "\n",
    "    if errors:\n",
    "        print(f\"{len(errors)} document(s) ont échoué à l'insertion.\")\n",
    "        for err in errors[:5]:\n",
    "            print(err)\n",
    "\n",
    "except Exception as e:\n",
    "    print(\"Erreur globale lors de l'insertion bulk :\", e)\n"
   ]
  }
 ],
 "metadata": {
  "kernelspec": {
   "display_name": "base",
   "language": "python",
   "name": "python3"
  },
  "language_info": {
   "codemirror_mode": {
    "name": "ipython",
    "version": 3
   },
   "file_extension": ".py",
   "mimetype": "text/x-python",
   "name": "python",
   "nbconvert_exporter": "python",
   "pygments_lexer": "ipython3",
   "version": "3.12.7"
  }
 },
 "nbformat": 4,
 "nbformat_minor": 2
}
